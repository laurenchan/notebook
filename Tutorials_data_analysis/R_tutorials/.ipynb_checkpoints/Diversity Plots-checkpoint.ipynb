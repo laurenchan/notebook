{
 "cells": [
  {
   "cell_type": "markdown",
   "metadata": {},
   "source": [
    "# Tutorial on visualizing diversity data in R"
   ]
  },
  {
   "cell_type": "markdown",
   "metadata": {},
   "source": [
    "### Start by loading libraries and your data"
   ]
  },
  {
   "cell_type": "code",
   "execution_count": 1,
   "metadata": {},
   "outputs": [
    {
     "name": "stderr",
     "output_type": "stream",
     "text": [
      "Loading required package: permute\n",
      "Loading required package: lattice\n",
      "This is vegan 2.5-6\n"
     ]
    }
   ],
   "source": [
    "library(vegan)\n",
    "library(ggplot2)"
   ]
  },
  {
   "cell_type": "code",
   "execution_count": 3,
   "metadata": {},
   "outputs": [],
   "source": [
    "collemboladat <- read.delim(\"collembolaMar5.txt\", sep=\"\\t\") #Can also do using RStudio \"Import Dataset\" in Environment Tab"
   ]
  },
  {
   "cell_type": "code",
   "execution_count": 4,
   "metadata": {},
   "outputs": [],
   "source": [
    "microbe3dat <- read.delim(\"microbesLevel3.txt\", sep=\"\\t\")"
   ]
  },
  {
   "cell_type": "markdown",
   "metadata": {},
   "source": [
    "### look at your data"
   ]
  },
  {
   "cell_type": "code",
   "execution_count": 15,
   "metadata": {},
   "outputs": [
    {
     "name": "stdout",
     "output_type": "stream",
     "text": [
      " [1] \"Site\"     \"Distance\" \"E1\"       \"E2\"       \"E3\"       \"E5\"      \n",
      " [7] \"E6\"       \"E7\"       \"E8\"       \"E9\"       \"E10\"      \"E12\"     \n",
      "[13] \"E13\"      \"E14\"      \"E15\"      \"E16\"      \"P1\"       \"P3\"      \n",
      "[19] \"P4\"       \"P5\"       \"P6\"       \"P7\"       \"P8\"       \"P9\"      \n",
      "[25] \"P10\"      \"S4\"       \"S9\"       \"N5\"       \"N6\"      \n"
     ]
    }
   ],
   "source": [
    "print(names(collemboladat))# Just the column headers in this case. Do the same for microbe data..."
   ]
  },
  {
   "cell_type": "markdown",
   "metadata": {},
   "source": [
    "columns for each group... E is 3:16, P 17:25, S 26:27, N 28:29"
   ]
  },
  {
   "cell_type": "code",
   "execution_count": 17,
   "metadata": {},
   "outputs": [
    {
     "data": {
      "text/html": [
       "<ol class=list-inline>\n",
       "\t<li>12</li>\n",
       "\t<li>59</li>\n",
       "</ol>\n"
      ],
      "text/latex": [
       "\\begin{enumerate*}\n",
       "\\item 12\n",
       "\\item 59\n",
       "\\end{enumerate*}\n"
      ],
      "text/markdown": [
       "1. 12\n",
       "2. 59\n",
       "\n",
       "\n"
      ],
      "text/plain": [
       "[1] 12 59"
      ]
     },
     "metadata": {},
     "output_type": "display_data"
    },
    {
     "data": {
      "text/html": [
       "<ol class=list-inline>\n",
       "\t<li>'Site'</li>\n",
       "\t<li>'replicate'</li>\n",
       "\t<li>'Acidobacteria.Acidobacteriia'</li>\n",
       "\t<li>'Acidobacteria.Blastocatellia..Subgroup.4.'</li>\n",
       "\t<li>'Acidobacteria.Holophagae'</li>\n",
       "\t<li>'Acidobacteria.Subgroup.6'</li>\n",
       "\t<li>'Actinobacteria.Acidimicrobiia'</li>\n",
       "\t<li>'Actinobacteria.Actinobacteria'</li>\n",
       "\t<li>'Actinobacteria.Coriobacteriia'</li>\n",
       "\t<li>'Actinobacteria.Thermoleophilia'</li>\n",
       "\t<li>'Actinobacteria.unid'</li>\n",
       "\t<li>'Armatimonadetes.Armatimonadia'</li>\n",
       "\t<li>'Bacteroidetes.Bacteroidia'</li>\n",
       "\t<li>'Bacteroidetes.Ignavibacteria'</li>\n",
       "\t<li>'Bacteroidetes.Rhodothermia'</li>\n",
       "\t<li>'Chlamydiae.Chlamydiae'</li>\n",
       "\t<li>'Chloroflexi.Anaerolineae'</li>\n",
       "\t<li>'Chloroflexi.Chloroflexia'</li>\n",
       "\t<li>'Chloroflexi.Dehalococcoidia'</li>\n",
       "\t<li>'Chloroflexi.KD4.96'</li>\n",
       "\t<li>'Chloroflexi.SL56.marine.group'</li>\n",
       "\t<li>'Cloacimonetes.Cloacimonadia'</li>\n",
       "\t<li>'Cyanobacteria.Melainabacteria'</li>\n",
       "\t<li>'Cyanobacteria.Oxyphotobacteria'</li>\n",
       "\t<li>'Deinococcus.Thermus.Deinococci'</li>\n",
       "\t<li>'Dependentiae.Babeliae'</li>\n",
       "\t<li>'Elusimicrobia.Endomicrobia'</li>\n",
       "\t<li>'Epsilonbacteraeota.Campylobacteria'</li>\n",
       "\t<li>'Fibrobacteres.Fibrobacteria'</li>\n",
       "\t<li>'Firmicutes.Bacilli'</li>\n",
       "\t<li>'Firmicutes.Clostridia'</li>\n",
       "\t<li>'Firmicutes.Erysipelotrichia'</li>\n",
       "\t<li>'Firmicutes.Negativicutes'</li>\n",
       "\t<li>'Fusobacteria.Fusobacteriia'</li>\n",
       "\t<li>'Gemmatimonadetes.Gemmatimonadetes'</li>\n",
       "\t<li>'Kiritimatiellaeota.Kiritimatiellae'</li>\n",
       "\t<li>'Lentisphaerae.Lentisphaeria'</li>\n",
       "\t<li>'Lentisphaerae.Oligosphaeria'</li>\n",
       "\t<li>'Nitrospinae.P9X2b3D02'</li>\n",
       "\t<li>'Omnitrophicaeota.Omnitrophia'</li>\n",
       "\t<li>'Patescibacteria.ABY1'</li>\n",
       "\t<li>'Patescibacteria.Berkelbacteria'</li>\n",
       "\t<li>'Patescibacteria.Gracilibacteria'</li>\n",
       "\t<li>'Patescibacteria.Parcubacteria'</li>\n",
       "\t<li>'Patescibacteria.Saccharimonadia'</li>\n",
       "\t<li>'Planctomycetes.Phycisphaerae'</li>\n",
       "\t<li>'Planctomycetes.Planctomycetacia'</li>\n",
       "\t<li>'Planctomycetes.vadinHA49'</li>\n",
       "\t<li>'Proteobacteria.Alphaproteobacteria'</li>\n",
       "\t<li>'Proteobacteria.Deltaproteobacteria'</li>\n",
       "\t<li>'Proteobacteria.Gammaproteobacteria'</li>\n",
       "\t<li>'Proteobacteria.unid'</li>\n",
       "\t<li>'Spirochaetes.Leptospirae'</li>\n",
       "\t<li>'Spirochaetes.Spirochaetia'</li>\n",
       "\t<li>'Verrucomicrobia.Verrucomicrobiae'</li>\n",
       "\t<li>'WPS.2.uncultured.rumen.bacterium'</li>\n",
       "\t<li>'Bacteria'</li>\n",
       "\t<li>'Unassigned'</li>\n",
       "\t<li>'SUM'</li>\n",
       "</ol>\n"
      ],
      "text/latex": [
       "\\begin{enumerate*}\n",
       "\\item 'Site'\n",
       "\\item 'replicate'\n",
       "\\item 'Acidobacteria.Acidobacteriia'\n",
       "\\item 'Acidobacteria.Blastocatellia..Subgroup.4.'\n",
       "\\item 'Acidobacteria.Holophagae'\n",
       "\\item 'Acidobacteria.Subgroup.6'\n",
       "\\item 'Actinobacteria.Acidimicrobiia'\n",
       "\\item 'Actinobacteria.Actinobacteria'\n",
       "\\item 'Actinobacteria.Coriobacteriia'\n",
       "\\item 'Actinobacteria.Thermoleophilia'\n",
       "\\item 'Actinobacteria.unid'\n",
       "\\item 'Armatimonadetes.Armatimonadia'\n",
       "\\item 'Bacteroidetes.Bacteroidia'\n",
       "\\item 'Bacteroidetes.Ignavibacteria'\n",
       "\\item 'Bacteroidetes.Rhodothermia'\n",
       "\\item 'Chlamydiae.Chlamydiae'\n",
       "\\item 'Chloroflexi.Anaerolineae'\n",
       "\\item 'Chloroflexi.Chloroflexia'\n",
       "\\item 'Chloroflexi.Dehalococcoidia'\n",
       "\\item 'Chloroflexi.KD4.96'\n",
       "\\item 'Chloroflexi.SL56.marine.group'\n",
       "\\item 'Cloacimonetes.Cloacimonadia'\n",
       "\\item 'Cyanobacteria.Melainabacteria'\n",
       "\\item 'Cyanobacteria.Oxyphotobacteria'\n",
       "\\item 'Deinococcus.Thermus.Deinococci'\n",
       "\\item 'Dependentiae.Babeliae'\n",
       "\\item 'Elusimicrobia.Endomicrobia'\n",
       "\\item 'Epsilonbacteraeota.Campylobacteria'\n",
       "\\item 'Fibrobacteres.Fibrobacteria'\n",
       "\\item 'Firmicutes.Bacilli'\n",
       "\\item 'Firmicutes.Clostridia'\n",
       "\\item 'Firmicutes.Erysipelotrichia'\n",
       "\\item 'Firmicutes.Negativicutes'\n",
       "\\item 'Fusobacteria.Fusobacteriia'\n",
       "\\item 'Gemmatimonadetes.Gemmatimonadetes'\n",
       "\\item 'Kiritimatiellaeota.Kiritimatiellae'\n",
       "\\item 'Lentisphaerae.Lentisphaeria'\n",
       "\\item 'Lentisphaerae.Oligosphaeria'\n",
       "\\item 'Nitrospinae.P9X2b3D02'\n",
       "\\item 'Omnitrophicaeota.Omnitrophia'\n",
       "\\item 'Patescibacteria.ABY1'\n",
       "\\item 'Patescibacteria.Berkelbacteria'\n",
       "\\item 'Patescibacteria.Gracilibacteria'\n",
       "\\item 'Patescibacteria.Parcubacteria'\n",
       "\\item 'Patescibacteria.Saccharimonadia'\n",
       "\\item 'Planctomycetes.Phycisphaerae'\n",
       "\\item 'Planctomycetes.Planctomycetacia'\n",
       "\\item 'Planctomycetes.vadinHA49'\n",
       "\\item 'Proteobacteria.Alphaproteobacteria'\n",
       "\\item 'Proteobacteria.Deltaproteobacteria'\n",
       "\\item 'Proteobacteria.Gammaproteobacteria'\n",
       "\\item 'Proteobacteria.unid'\n",
       "\\item 'Spirochaetes.Leptospirae'\n",
       "\\item 'Spirochaetes.Spirochaetia'\n",
       "\\item 'Verrucomicrobia.Verrucomicrobiae'\n",
       "\\item 'WPS.2.uncultured.rumen.bacterium'\n",
       "\\item 'Bacteria'\n",
       "\\item 'Unassigned'\n",
       "\\item 'SUM'\n",
       "\\end{enumerate*}\n"
      ],
      "text/markdown": [
       "1. 'Site'\n",
       "2. 'replicate'\n",
       "3. 'Acidobacteria.Acidobacteriia'\n",
       "4. 'Acidobacteria.Blastocatellia..Subgroup.4.'\n",
       "5. 'Acidobacteria.Holophagae'\n",
       "6. 'Acidobacteria.Subgroup.6'\n",
       "7. 'Actinobacteria.Acidimicrobiia'\n",
       "8. 'Actinobacteria.Actinobacteria'\n",
       "9. 'Actinobacteria.Coriobacteriia'\n",
       "10. 'Actinobacteria.Thermoleophilia'\n",
       "11. 'Actinobacteria.unid'\n",
       "12. 'Armatimonadetes.Armatimonadia'\n",
       "13. 'Bacteroidetes.Bacteroidia'\n",
       "14. 'Bacteroidetes.Ignavibacteria'\n",
       "15. 'Bacteroidetes.Rhodothermia'\n",
       "16. 'Chlamydiae.Chlamydiae'\n",
       "17. 'Chloroflexi.Anaerolineae'\n",
       "18. 'Chloroflexi.Chloroflexia'\n",
       "19. 'Chloroflexi.Dehalococcoidia'\n",
       "20. 'Chloroflexi.KD4.96'\n",
       "21. 'Chloroflexi.SL56.marine.group'\n",
       "22. 'Cloacimonetes.Cloacimonadia'\n",
       "23. 'Cyanobacteria.Melainabacteria'\n",
       "24. 'Cyanobacteria.Oxyphotobacteria'\n",
       "25. 'Deinococcus.Thermus.Deinococci'\n",
       "26. 'Dependentiae.Babeliae'\n",
       "27. 'Elusimicrobia.Endomicrobia'\n",
       "28. 'Epsilonbacteraeota.Campylobacteria'\n",
       "29. 'Fibrobacteres.Fibrobacteria'\n",
       "30. 'Firmicutes.Bacilli'\n",
       "31. 'Firmicutes.Clostridia'\n",
       "32. 'Firmicutes.Erysipelotrichia'\n",
       "33. 'Firmicutes.Negativicutes'\n",
       "34. 'Fusobacteria.Fusobacteriia'\n",
       "35. 'Gemmatimonadetes.Gemmatimonadetes'\n",
       "36. 'Kiritimatiellaeota.Kiritimatiellae'\n",
       "37. 'Lentisphaerae.Lentisphaeria'\n",
       "38. 'Lentisphaerae.Oligosphaeria'\n",
       "39. 'Nitrospinae.P9X2b3D02'\n",
       "40. 'Omnitrophicaeota.Omnitrophia'\n",
       "41. 'Patescibacteria.ABY1'\n",
       "42. 'Patescibacteria.Berkelbacteria'\n",
       "43. 'Patescibacteria.Gracilibacteria'\n",
       "44. 'Patescibacteria.Parcubacteria'\n",
       "45. 'Patescibacteria.Saccharimonadia'\n",
       "46. 'Planctomycetes.Phycisphaerae'\n",
       "47. 'Planctomycetes.Planctomycetacia'\n",
       "48. 'Planctomycetes.vadinHA49'\n",
       "49. 'Proteobacteria.Alphaproteobacteria'\n",
       "50. 'Proteobacteria.Deltaproteobacteria'\n",
       "51. 'Proteobacteria.Gammaproteobacteria'\n",
       "52. 'Proteobacteria.unid'\n",
       "53. 'Spirochaetes.Leptospirae'\n",
       "54. 'Spirochaetes.Spirochaetia'\n",
       "55. 'Verrucomicrobia.Verrucomicrobiae'\n",
       "56. 'WPS.2.uncultured.rumen.bacterium'\n",
       "57. 'Bacteria'\n",
       "58. 'Unassigned'\n",
       "59. 'SUM'\n",
       "\n",
       "\n"
      ],
      "text/plain": [
       " [1] \"Site\"                                     \n",
       " [2] \"replicate\"                                \n",
       " [3] \"Acidobacteria.Acidobacteriia\"             \n",
       " [4] \"Acidobacteria.Blastocatellia..Subgroup.4.\"\n",
       " [5] \"Acidobacteria.Holophagae\"                 \n",
       " [6] \"Acidobacteria.Subgroup.6\"                 \n",
       " [7] \"Actinobacteria.Acidimicrobiia\"            \n",
       " [8] \"Actinobacteria.Actinobacteria\"            \n",
       " [9] \"Actinobacteria.Coriobacteriia\"            \n",
       "[10] \"Actinobacteria.Thermoleophilia\"           \n",
       "[11] \"Actinobacteria.unid\"                      \n",
       "[12] \"Armatimonadetes.Armatimonadia\"            \n",
       "[13] \"Bacteroidetes.Bacteroidia\"                \n",
       "[14] \"Bacteroidetes.Ignavibacteria\"             \n",
       "[15] \"Bacteroidetes.Rhodothermia\"               \n",
       "[16] \"Chlamydiae.Chlamydiae\"                    \n",
       "[17] \"Chloroflexi.Anaerolineae\"                 \n",
       "[18] \"Chloroflexi.Chloroflexia\"                 \n",
       "[19] \"Chloroflexi.Dehalococcoidia\"              \n",
       "[20] \"Chloroflexi.KD4.96\"                       \n",
       "[21] \"Chloroflexi.SL56.marine.group\"            \n",
       "[22] \"Cloacimonetes.Cloacimonadia\"              \n",
       "[23] \"Cyanobacteria.Melainabacteria\"            \n",
       "[24] \"Cyanobacteria.Oxyphotobacteria\"           \n",
       "[25] \"Deinococcus.Thermus.Deinococci\"           \n",
       "[26] \"Dependentiae.Babeliae\"                    \n",
       "[27] \"Elusimicrobia.Endomicrobia\"               \n",
       "[28] \"Epsilonbacteraeota.Campylobacteria\"       \n",
       "[29] \"Fibrobacteres.Fibrobacteria\"              \n",
       "[30] \"Firmicutes.Bacilli\"                       \n",
       "[31] \"Firmicutes.Clostridia\"                    \n",
       "[32] \"Firmicutes.Erysipelotrichia\"              \n",
       "[33] \"Firmicutes.Negativicutes\"                 \n",
       "[34] \"Fusobacteria.Fusobacteriia\"               \n",
       "[35] \"Gemmatimonadetes.Gemmatimonadetes\"        \n",
       "[36] \"Kiritimatiellaeota.Kiritimatiellae\"       \n",
       "[37] \"Lentisphaerae.Lentisphaeria\"              \n",
       "[38] \"Lentisphaerae.Oligosphaeria\"              \n",
       "[39] \"Nitrospinae.P9X2b3D02\"                    \n",
       "[40] \"Omnitrophicaeota.Omnitrophia\"             \n",
       "[41] \"Patescibacteria.ABY1\"                     \n",
       "[42] \"Patescibacteria.Berkelbacteria\"           \n",
       "[43] \"Patescibacteria.Gracilibacteria\"          \n",
       "[44] \"Patescibacteria.Parcubacteria\"            \n",
       "[45] \"Patescibacteria.Saccharimonadia\"          \n",
       "[46] \"Planctomycetes.Phycisphaerae\"             \n",
       "[47] \"Planctomycetes.Planctomycetacia\"          \n",
       "[48] \"Planctomycetes.vadinHA49\"                 \n",
       "[49] \"Proteobacteria.Alphaproteobacteria\"       \n",
       "[50] \"Proteobacteria.Deltaproteobacteria\"       \n",
       "[51] \"Proteobacteria.Gammaproteobacteria\"       \n",
       "[52] \"Proteobacteria.unid\"                      \n",
       "[53] \"Spirochaetes.Leptospirae\"                 \n",
       "[54] \"Spirochaetes.Spirochaetia\"                \n",
       "[55] \"Verrucomicrobia.Verrucomicrobiae\"         \n",
       "[56] \"WPS.2.uncultured.rumen.bacterium\"         \n",
       "[57] \"Bacteria\"                                 \n",
       "[58] \"Unassigned\"                               \n",
       "[59] \"SUM\"                                      "
      ]
     },
     "metadata": {},
     "output_type": "display_data"
    }
   ],
   "source": [
    "dim(microbe3dat); names(microbe3dat)"
   ]
  },
  {
   "cell_type": "markdown",
   "metadata": {},
   "source": [
    "#### We should check that it's a data from using: "
   ]
  },
  {
   "cell_type": "code",
   "execution_count": 13,
   "metadata": {},
   "outputs": [
    {
     "data": {
      "text/html": [
       "TRUE"
      ],
      "text/latex": [
       "TRUE"
      ],
      "text/markdown": [
       "TRUE"
      ],
      "text/plain": [
       "[1] TRUE"
      ]
     },
     "metadata": {},
     "output_type": "display_data"
    }
   ],
   "source": [
    "is.data.frame(collemboladat)"
   ]
  },
  {
   "cell_type": "markdown",
   "metadata": {},
   "source": [
    "### Create a matrix that holds your summarized results... this will be easier to deal with."
   ]
  },
  {
   "cell_type": "code",
   "execution_count": 27,
   "metadata": {},
   "outputs": [],
   "source": [
    "myresultsC <- collemboladat[,1:2] #all rows, and columns 1 through 2\n",
    "myresultsM <- microbe3dat[,1:2] "
   ]
  },
  {
   "cell_type": "markdown",
   "metadata": {},
   "source": [
    "### Calculate summary stats\n",
    "We will use the `apply()` function. Use `?apply` to see the documentation. `apply` takes the data you want to consider, a 1 if you want to apply the function to each row or a 2 if you want to apply the function to each column, and then the function. \n",
    "\n",
    "First we'll calculate: Total number of individuals (allIndiv); Total number of individuals per group (xIndiv)"
   ]
  },
  {
   "cell_type": "code",
   "execution_count": 22,
   "metadata": {},
   "outputs": [],
   "source": [
    "allIndivC <- apply(collemboladat[,3:29], 1, sum)\n",
    "allIndivM <- apply(microbe3dat[,3:57], 1, sum) #excluding unassigned and Sum\n",
    "eIndivC <- apply(collemboladat[,3:16], 1, sum)\n",
    "pIndivC <- apply(collemboladat[,17:25], 1, sum)\n",
    "sIndivC <- apply(collemboladat[,26:27], 1, sum)\n",
    "nIndivC <- apply(collemboladat[,28:29], 1, sum)\n",
    "\n",
    "#Example for all Actinobacteria\n",
    "actinoIndiv <- apply(microbe3dat[,3:11], 1, sum)"
   ]
  },
  {
   "cell_type": "markdown",
   "metadata": {},
   "source": [
    "Next we can calculate counts... this is presence/absence and just a tad more complicated. We use the same `apply` function as above, but for the function part, we look at each value in a row (x) and check if it's 0 or not 0 (`!=`) and then sum the number of not 0 values. "
   ]
  },
  {
   "cell_type": "code",
   "execution_count": 23,
   "metadata": {},
   "outputs": [],
   "source": [
    "allTaxaC <- apply(collemboladat[,3:29], 1, function(x) sum(x!=0))\n",
    "allTaxaM <- apply(microbe3dat[,3:57], 1, function(x) sum(x!=0))"
   ]
  },
  {
   "cell_type": "code",
   "execution_count": 25,
   "metadata": {},
   "outputs": [],
   "source": [
    "eTaxaC <- apply(collemboladat[,3:16], 1, function(x) sum(x!=0))\n",
    "pTaxaC <- apply(collemboladat[,17:25], 1, function(x) sum(x!=0))\n",
    "sTaxaC <- apply(collemboladat[,26:27], 1, function(x) sum(x!=0))\n",
    "nTaxaC <- apply(collemboladat[,28:29], 1, function(x) sum(x!=0))\n",
    "                \n",
    "actinoCount <- apply(microbe3dat[,3:11], 1, function(x) sum(x!=0))"
   ]
  },
  {
   "cell_type": "code",
   "execution_count": 26,
   "metadata": {},
   "outputs": [],
   "source": [
    "shannonC <- diversity(collemboladat[,3:29])\n",
    "shannonM <- diversity(microbe3dat[,3:57])"
   ]
  },
  {
   "cell_type": "markdown",
   "metadata": {},
   "source": [
    "### Use cbind to add these to your results table\n",
    "Note that if you get an error, it's likely because the info is not all on one line in RStudio... you can fix this. "
   ]
  },
  {
   "cell_type": "code",
   "execution_count": 28,
   "metadata": {},
   "outputs": [],
   "source": [
    "myresultsC <- cbind(myresultsC, allIndivC, eIndivC, pIndivC,\n",
    "                   sIndivC, nIndivC, allTaxaC, eTaxaC, \n",
    "                   pTaxaC, sTaxaC, nTaxaC, shannonC)"
   ]
  },
  {
   "cell_type": "code",
   "execution_count": 29,
   "metadata": {},
   "outputs": [],
   "source": [
    "myresultsM <- cbind(myresultsM, allIndivM, actinoIndiv, allTaxaM, \n",
    "                    actinoCount, shannonM)"
   ]
  },
  {
   "cell_type": "markdown",
   "metadata": {},
   "source": [
    "## Use ggplot to plot\n",
    "This will take the most effort by you. You will really need to think about how best to visualize the data. The following show you some example plots, but you need to think about what will work best for you. That could mean calculating more summary stats even. \n",
    "\n",
    "The general format is to use the `ggplot()` function to set the variables and then following to plot the graph. Examples include `geom_point()` and `geom_boxplot()`. You can also set `ggtitle()`, `xlab()` etc."
   ]
  },
  {
   "cell_type": "code",
   "execution_count": 33,
   "metadata": {},
   "outputs": [
    {
     "data": {
      "image/png": "[encoded data removed]",
      "text/plain": [
       "plot without title"
      ]
     },
     "metadata": {},
     "output_type": "display_data"
    }
   ],
   "source": [
    "p <- ggplot(myresultsC, aes(x=Distance, y=shannonC, col=Site)) +\n",
    "        geom_point(pch=16, cex=2)\n",
    "p"
   ]
  },
  {
   "cell_type": "code",
   "execution_count": null,
   "metadata": {},
   "outputs": [],
   "source": []
  }
 ],
 "metadata": {
  "kernelspec": {
   "display_name": "R",
   "language": "R",
   "name": "ir"
  },
  "language_info": {
   "codemirror_mode": "r",
   "file_extension": ".r",
   "mimetype": "text/x-r-source",
   "name": "R",
   "pygments_lexer": "r",
   "version": "3.6.1"
  }
 },
 "nbformat": 4,
 "nbformat_minor": 2
}
