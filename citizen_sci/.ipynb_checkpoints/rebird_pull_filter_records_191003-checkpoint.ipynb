{
 "cells": [
  {
   "cell_type": "code",
   "execution_count": 1,
   "metadata": {
    "scrolled": true
   },
   "outputs": [
    {
     "name": "stderr",
     "output_type": "stream",
     "text": [
      "\n",
      "Attaching package: ‘dplyr’\n",
      "\n",
      "The following objects are masked from ‘package:stats’:\n",
      "\n",
      "    filter, lag\n",
      "\n",
      "The following objects are masked from ‘package:base’:\n",
      "\n",
      "    intersect, setdiff, setequal, union\n",
      "\n"
     ]
    }
   ],
   "source": [
    "library(rebird)\n",
    "library(dplyr)"
   ]
  },
  {
   "cell_type": "code",
   "execution_count": 6,
   "metadata": {},
   "outputs": [],
   "source": [
    "mykey <- \"96h4mi8jusor\"\n",
    "fernhill <- \"L163529\""
   ]
  },
  {
   "cell_type": "markdown",
   "metadata": {},
   "source": [
    "### Small function to pull records"
   ]
  },
  {
   "cell_type": "code",
   "execution_count": 4,
   "metadata": {},
   "outputs": [],
   "source": [
    "pullrecords <- function(start, end) {\n",
    "    #used as.Date to clarify the format of startdate and enddate is YYYY-MM-DD\n",
    "    startdate <- as.Date (start)\n",
    "    enddate <- as.Date (end)\n",
    "    dat <- NULL\n",
    "    \n",
    "\n",
    "    for (d in seq.Date(startdate, enddate, 1)){ \n",
    "      thedate <- as.Date(d, origin= \"1970-01-01\")\n",
    "      day <- ebirdhistorical(loc = fernhill, date = thedate, key = mykey, fieldSet = \"full\")\n",
    "      dat <- bind_rows(dat, day)            #bind_rows better than rbind in case fields are missing\n",
    "    }\n",
    "}\n"
   ]
  },
  {
   "cell_type": "code",
   "execution_count": 12,
   "metadata": {},
   "outputs": [],
   "source": [
    "oct <- pullrecords(\"2013-01-01\", \"2013-12-30\")"
   ]
  },
  {
   "cell_type": "code",
   "execution_count": 14,
   "metadata": {},
   "outputs": [],
   "source": [
    "#Group by variable and sum particular column, in this case \"howMany\"\n",
    "sum_of_oct <- oct %>% group_by(comName) %>% summarize(sum(howMany))"
   ]
  },
  {
   "cell_type": "code",
   "execution_count": 18,
   "metadata": {},
   "outputs": [
    {
     "data": {
      "text/html": [
       "<ol class=list-inline>\n",
       "\t<li>'speciesCode'</li>\n",
       "\t<li>'comName'</li>\n",
       "\t<li>'sciName'</li>\n",
       "\t<li>'locId'</li>\n",
       "\t<li>'locName'</li>\n",
       "\t<li>'obsDt'</li>\n",
       "\t<li>'howMany'</li>\n",
       "\t<li>'lat'</li>\n",
       "\t<li>'lng'</li>\n",
       "\t<li>'obsValid'</li>\n",
       "\t<li>'obsReviewed'</li>\n",
       "\t<li>'locationPrivate'</li>\n",
       "\t<li>'subnational2Code'</li>\n",
       "\t<li>'subnational2Name'</li>\n",
       "\t<li>'subnational1Code'</li>\n",
       "\t<li>'subnational1Name'</li>\n",
       "\t<li>'countryCode'</li>\n",
       "\t<li>'countryName'</li>\n",
       "\t<li>'userDisplayName'</li>\n",
       "\t<li>'subId'</li>\n",
       "\t<li>'obsId'</li>\n",
       "\t<li>'checklistId'</li>\n",
       "\t<li>'presenceNoted'</li>\n",
       "\t<li>'hasComments'</li>\n",
       "\t<li>'firstName'</li>\n",
       "\t<li>'lastName'</li>\n",
       "\t<li>'hasRichMedia'</li>\n",
       "</ol>\n"
      ],
      "text/latex": [
       "\\begin{enumerate*}\n",
       "\\item 'speciesCode'\n",
       "\\item 'comName'\n",
       "\\item 'sciName'\n",
       "\\item 'locId'\n",
       "\\item 'locName'\n",
       "\\item 'obsDt'\n",
       "\\item 'howMany'\n",
       "\\item 'lat'\n",
       "\\item 'lng'\n",
       "\\item 'obsValid'\n",
       "\\item 'obsReviewed'\n",
       "\\item 'locationPrivate'\n",
       "\\item 'subnational2Code'\n",
       "\\item 'subnational2Name'\n",
       "\\item 'subnational1Code'\n",
       "\\item 'subnational1Name'\n",
       "\\item 'countryCode'\n",
       "\\item 'countryName'\n",
       "\\item 'userDisplayName'\n",
       "\\item 'subId'\n",
       "\\item 'obsId'\n",
       "\\item 'checklistId'\n",
       "\\item 'presenceNoted'\n",
       "\\item 'hasComments'\n",
       "\\item 'firstName'\n",
       "\\item 'lastName'\n",
       "\\item 'hasRichMedia'\n",
       "\\end{enumerate*}\n"
      ],
      "text/markdown": [
       "1. 'speciesCode'\n",
       "2. 'comName'\n",
       "3. 'sciName'\n",
       "4. 'locId'\n",
       "5. 'locName'\n",
       "6. 'obsDt'\n",
       "7. 'howMany'\n",
       "8. 'lat'\n",
       "9. 'lng'\n",
       "10. 'obsValid'\n",
       "11. 'obsReviewed'\n",
       "12. 'locationPrivate'\n",
       "13. 'subnational2Code'\n",
       "14. 'subnational2Name'\n",
       "15. 'subnational1Code'\n",
       "16. 'subnational1Name'\n",
       "17. 'countryCode'\n",
       "18. 'countryName'\n",
       "19. 'userDisplayName'\n",
       "20. 'subId'\n",
       "21. 'obsId'\n",
       "22. 'checklistId'\n",
       "23. 'presenceNoted'\n",
       "24. 'hasComments'\n",
       "25. 'firstName'\n",
       "26. 'lastName'\n",
       "27. 'hasRichMedia'\n",
       "\n",
       "\n"
      ],
      "text/plain": [
       " [1] \"speciesCode\"      \"comName\"          \"sciName\"          \"locId\"           \n",
       " [5] \"locName\"          \"obsDt\"            \"howMany\"          \"lat\"             \n",
       " [9] \"lng\"              \"obsValid\"         \"obsReviewed\"      \"locationPrivate\" \n",
       "[13] \"subnational2Code\" \"subnational2Name\" \"subnational1Code\" \"subnational1Name\"\n",
       "[17] \"countryCode\"      \"countryName\"      \"userDisplayName\"  \"subId\"           \n",
       "[21] \"obsId\"            \"checklistId\"      \"presenceNoted\"    \"hasComments\"     \n",
       "[25] \"firstName\"        \"lastName\"         \"hasRichMedia\"    "
      ]
     },
     "metadata": {},
     "output_type": "display_data"
    }
   ],
   "source": [
    "names(oct)"
   ]
  },
  {
   "cell_type": "markdown",
   "metadata": {},
   "source": [
    "###Filtering your table\n",
    "\n",
    "First, use Boolean operators (e.g. == or !=) to see which records match (rows)"
   ]
  },
  {
   "cell_type": "code",
   "execution_count": 26,
   "metadata": {},
   "outputs": [
    {
     "data": {
      "text/html": [
       "<ol class=list-inline>\n",
       "\t<li>FALSE</li>\n",
       "\t<li>FALSE</li>\n",
       "\t<li>TRUE</li>\n",
       "\t<li>TRUE</li>\n",
       "\t<li>FALSE</li>\n",
       "\t<li>FALSE</li>\n",
       "\t<li>FALSE</li>\n",
       "\t<li>FALSE</li>\n",
       "\t<li>FALSE</li>\n",
       "\t<li>FALSE</li>\n",
       "\t<li>FALSE</li>\n",
       "\t<li>FALSE</li>\n",
       "\t<li>FALSE</li>\n",
       "\t<li>FALSE</li>\n",
       "\t<li>FALSE</li>\n",
       "\t<li>FALSE</li>\n",
       "\t<li>FALSE</li>\n",
       "\t<li>FALSE</li>\n",
       "\t<li>FALSE</li>\n",
       "\t<li>FALSE</li>\n",
       "\t<li>FALSE</li>\n",
       "\t<li>FALSE</li>\n",
       "\t<li>FALSE</li>\n",
       "\t<li>FALSE</li>\n",
       "\t<li>FALSE</li>\n",
       "\t<li>FALSE</li>\n",
       "\t<li>FALSE</li>\n",
       "\t<li>FALSE</li>\n",
       "\t<li>FALSE</li>\n",
       "\t<li>FALSE</li>\n",
       "\t<li>FALSE</li>\n",
       "\t<li>FALSE</li>\n",
       "\t<li>FALSE</li>\n",
       "\t<li>FALSE</li>\n",
       "\t<li>FALSE</li>\n",
       "\t<li>FALSE</li>\n",
       "\t<li>FALSE</li>\n",
       "\t<li>FALSE</li>\n",
       "\t<li>FALSE</li>\n",
       "\t<li>FALSE</li>\n",
       "\t<li>FALSE</li>\n",
       "\t<li>FALSE</li>\n",
       "\t<li>FALSE</li>\n",
       "\t<li>FALSE</li>\n",
       "\t<li>FALSE</li>\n",
       "\t<li>FALSE</li>\n",
       "\t<li>FALSE</li>\n",
       "\t<li>FALSE</li>\n",
       "\t<li>FALSE</li>\n",
       "</ol>\n"
      ],
      "text/latex": [
       "\\begin{enumerate*}\n",
       "\\item FALSE\n",
       "\\item FALSE\n",
       "\\item TRUE\n",
       "\\item TRUE\n",
       "\\item FALSE\n",
       "\\item FALSE\n",
       "\\item FALSE\n",
       "\\item FALSE\n",
       "\\item FALSE\n",
       "\\item FALSE\n",
       "\\item FALSE\n",
       "\\item FALSE\n",
       "\\item FALSE\n",
       "\\item FALSE\n",
       "\\item FALSE\n",
       "\\item FALSE\n",
       "\\item FALSE\n",
       "\\item FALSE\n",
       "\\item FALSE\n",
       "\\item FALSE\n",
       "\\item FALSE\n",
       "\\item FALSE\n",
       "\\item FALSE\n",
       "\\item FALSE\n",
       "\\item FALSE\n",
       "\\item FALSE\n",
       "\\item FALSE\n",
       "\\item FALSE\n",
       "\\item FALSE\n",
       "\\item FALSE\n",
       "\\item FALSE\n",
       "\\item FALSE\n",
       "\\item FALSE\n",
       "\\item FALSE\n",
       "\\item FALSE\n",
       "\\item FALSE\n",
       "\\item FALSE\n",
       "\\item FALSE\n",
       "\\item FALSE\n",
       "\\item FALSE\n",
       "\\item FALSE\n",
       "\\item FALSE\n",
       "\\item FALSE\n",
       "\\item FALSE\n",
       "\\item FALSE\n",
       "\\item FALSE\n",
       "\\item FALSE\n",
       "\\item FALSE\n",
       "\\item FALSE\n",
       "\\end{enumerate*}\n"
      ],
      "text/markdown": [
       "1. FALSE\n",
       "2. FALSE\n",
       "3. TRUE\n",
       "4. TRUE\n",
       "5. FALSE\n",
       "6. FALSE\n",
       "7. FALSE\n",
       "8. FALSE\n",
       "9. FALSE\n",
       "10. FALSE\n",
       "11. FALSE\n",
       "12. FALSE\n",
       "13. FALSE\n",
       "14. FALSE\n",
       "15. FALSE\n",
       "16. FALSE\n",
       "17. FALSE\n",
       "18. FALSE\n",
       "19. FALSE\n",
       "20. FALSE\n",
       "21. FALSE\n",
       "22. FALSE\n",
       "23. FALSE\n",
       "24. FALSE\n",
       "25. FALSE\n",
       "26. FALSE\n",
       "27. FALSE\n",
       "28. FALSE\n",
       "29. FALSE\n",
       "30. FALSE\n",
       "31. FALSE\n",
       "32. FALSE\n",
       "33. FALSE\n",
       "34. FALSE\n",
       "35. FALSE\n",
       "36. FALSE\n",
       "37. FALSE\n",
       "38. FALSE\n",
       "39. FALSE\n",
       "40. FALSE\n",
       "41. FALSE\n",
       "42. FALSE\n",
       "43. FALSE\n",
       "44. FALSE\n",
       "45. FALSE\n",
       "46. FALSE\n",
       "47. FALSE\n",
       "48. FALSE\n",
       "49. FALSE\n",
       "\n",
       "\n"
      ],
      "text/plain": [
       " [1] FALSE FALSE  TRUE  TRUE FALSE FALSE FALSE FALSE FALSE FALSE FALSE FALSE\n",
       "[13] FALSE FALSE FALSE FALSE FALSE FALSE FALSE FALSE FALSE FALSE FALSE FALSE\n",
       "[25] FALSE FALSE FALSE FALSE FALSE FALSE FALSE FALSE FALSE FALSE FALSE FALSE\n",
       "[37] FALSE FALSE FALSE FALSE FALSE FALSE FALSE FALSE FALSE FALSE FALSE FALSE\n",
       "[49] FALSE"
      ]
     },
     "metadata": {},
     "output_type": "display_data"
    }
   ],
   "source": [
    "oct$comName ==\"Canada Goose\""
   ]
  },
  {
   "cell_type": "markdown",
   "metadata": {},
   "source": [
    "Then pull those same records from your table following format of variable[rows,columns] where you want to pull rows that are TRUE (hense the boolean and then a comma."
   ]
  },
  {
   "cell_type": "code",
   "execution_count": 25,
   "metadata": {},
   "outputs": [
    {
     "data": {
      "text/html": [
       "<table>\n",
       "<caption>A tibble: 2 × 27</caption>\n",
       "<thead>\n",
       "\t<tr><th scope=col>speciesCode</th><th scope=col>comName</th><th scope=col>sciName</th><th scope=col>locId</th><th scope=col>locName</th><th scope=col>obsDt</th><th scope=col>howMany</th><th scope=col>lat</th><th scope=col>lng</th><th scope=col>obsValid</th><th scope=col>⋯</th><th scope=col>countryName</th><th scope=col>userDisplayName</th><th scope=col>subId</th><th scope=col>obsId</th><th scope=col>checklistId</th><th scope=col>presenceNoted</th><th scope=col>hasComments</th><th scope=col>firstName</th><th scope=col>lastName</th><th scope=col>hasRichMedia</th></tr>\n",
       "\t<tr><th scope=col>&lt;chr&gt;</th><th scope=col>&lt;chr&gt;</th><th scope=col>&lt;chr&gt;</th><th scope=col>&lt;chr&gt;</th><th scope=col>&lt;chr&gt;</th><th scope=col>&lt;chr&gt;</th><th scope=col>&lt;int&gt;</th><th scope=col>&lt;dbl&gt;</th><th scope=col>&lt;dbl&gt;</th><th scope=col>&lt;lgl&gt;</th><th scope=col>⋯</th><th scope=col>&lt;chr&gt;</th><th scope=col>&lt;chr&gt;</th><th scope=col>&lt;chr&gt;</th><th scope=col>&lt;chr&gt;</th><th scope=col>&lt;chr&gt;</th><th scope=col>&lt;lgl&gt;</th><th scope=col>&lt;lgl&gt;</th><th scope=col>&lt;chr&gt;</th><th scope=col>&lt;chr&gt;</th><th scope=col>&lt;lgl&gt;</th></tr>\n",
       "</thead>\n",
       "<tbody>\n",
       "\t<tr><td>cangoo</td><td>Canada Goose</td><td>Branta canadensis</td><td>L163529</td><td>Fernhill Wetlands (general)</td><td>2013-12-30 08:10</td><td> 4</td><td>45.50649</td><td>-123.0852</td><td>TRUE</td><td>⋯</td><td>United States</td><td>Steve Nord</td><td>S16134808</td><td>OBS223280902</td><td>CL23483</td><td>FALSE</td><td>FALSE</td><td>Steve</td><td>Nord</td><td>FALSE</td></tr>\n",
       "\t<tr><td>cangoo</td><td>Canada Goose</td><td>Branta canadensis</td><td>L163529</td><td>Fernhill Wetlands (general)</td><td>2013-12-30 08:10</td><td>41</td><td>45.50649</td><td>-123.0852</td><td>TRUE</td><td>⋯</td><td>United States</td><td>Steve Nord</td><td>S16134808</td><td>OBS223280903</td><td>CL23483</td><td>FALSE</td><td>FALSE</td><td>Steve</td><td>Nord</td><td>FALSE</td></tr>\n",
       "</tbody>\n",
       "</table>\n"
      ],
      "text/latex": [
       "A tibble: 2 × 27\n",
       "\\begin{tabular}{r|lllllllllllllllllllllllllll}\n",
       " speciesCode & comName & sciName & locId & locName & obsDt & howMany & lat & lng & obsValid & obsReviewed & locationPrivate & subnational2Code & subnational2Name & subnational1Code & subnational1Name & countryCode & countryName & userDisplayName & subId & obsId & checklistId & presenceNoted & hasComments & firstName & lastName & hasRichMedia\\\\\n",
       " <chr> & <chr> & <chr> & <chr> & <chr> & <chr> & <int> & <dbl> & <dbl> & <lgl> & <lgl> & <lgl> & <chr> & <chr> & <chr> & <chr> & <chr> & <chr> & <chr> & <chr> & <chr> & <chr> & <lgl> & <lgl> & <chr> & <chr> & <lgl>\\\\\n",
       "\\hline\n",
       "\t cangoo & Canada Goose & Branta canadensis & L163529 & Fernhill Wetlands (general) & 2013-12-30 08:10 &  4 & 45.50649 & -123.0852 & TRUE & FALSE & FALSE & US-OR-067 & Washington & US-OR & Oregon & US & United States & Steve Nord & S16134808 & OBS223280902 & CL23483 & FALSE & FALSE & Steve & Nord & FALSE\\\\\n",
       "\t cangoo & Canada Goose & Branta canadensis & L163529 & Fernhill Wetlands (general) & 2013-12-30 08:10 & 41 & 45.50649 & -123.0852 & TRUE & FALSE & FALSE & US-OR-067 & Washington & US-OR & Oregon & US & United States & Steve Nord & S16134808 & OBS223280903 & CL23483 & FALSE & FALSE & Steve & Nord & FALSE\\\\\n",
       "\\end{tabular}\n"
      ],
      "text/markdown": [
       "\n",
       "A tibble: 2 × 27\n",
       "\n",
       "| speciesCode &lt;chr&gt; | comName &lt;chr&gt; | sciName &lt;chr&gt; | locId &lt;chr&gt; | locName &lt;chr&gt; | obsDt &lt;chr&gt; | howMany &lt;int&gt; | lat &lt;dbl&gt; | lng &lt;dbl&gt; | obsValid &lt;lgl&gt; | ⋯ ⋯ | countryName &lt;chr&gt; | userDisplayName &lt;chr&gt; | subId &lt;chr&gt; | obsId &lt;chr&gt; | checklistId &lt;chr&gt; | presenceNoted &lt;lgl&gt; | hasComments &lt;lgl&gt; | firstName &lt;chr&gt; | lastName &lt;chr&gt; | hasRichMedia &lt;lgl&gt; |\n",
       "|---|---|---|---|---|---|---|---|---|---|---|---|---|---|---|---|---|---|---|---|---|\n",
       "| cangoo | Canada Goose | Branta canadensis | L163529 | Fernhill Wetlands (general) | 2013-12-30 08:10 |  4 | 45.50649 | -123.0852 | TRUE | ⋯ | United States | Steve Nord | S16134808 | OBS223280902 | CL23483 | FALSE | FALSE | Steve | Nord | FALSE |\n",
       "| cangoo | Canada Goose | Branta canadensis | L163529 | Fernhill Wetlands (general) | 2013-12-30 08:10 | 41 | 45.50649 | -123.0852 | TRUE | ⋯ | United States | Steve Nord | S16134808 | OBS223280903 | CL23483 | FALSE | FALSE | Steve | Nord | FALSE |\n",
       "\n"
      ],
      "text/plain": [
       "  speciesCode comName      sciName           locId  \n",
       "1 cangoo      Canada Goose Branta canadensis L163529\n",
       "2 cangoo      Canada Goose Branta canadensis L163529\n",
       "  locName                     obsDt            howMany lat      lng      \n",
       "1 Fernhill Wetlands (general) 2013-12-30 08:10  4      45.50649 -123.0852\n",
       "2 Fernhill Wetlands (general) 2013-12-30 08:10 41      45.50649 -123.0852\n",
       "  obsValid ⋯ countryName   userDisplayName subId     obsId        checklistId\n",
       "1 TRUE     ⋯ United States Steve Nord      S16134808 OBS223280902 CL23483    \n",
       "2 TRUE     ⋯ United States Steve Nord      S16134808 OBS223280903 CL23483    \n",
       "  presenceNoted hasComments firstName lastName hasRichMedia\n",
       "1 FALSE         FALSE       Steve     Nord     FALSE       \n",
       "2 FALSE         FALSE       Steve     Nord     FALSE       "
      ]
     },
     "metadata": {},
     "output_type": "display_data"
    }
   ],
   "source": [
    "oct[oct$comName == \"Canada Goose\",]"
   ]
  },
  {
   "cell_type": "code",
   "execution_count": null,
   "metadata": {},
   "outputs": [],
   "source": []
  }
 ],
 "metadata": {
  "kernelspec": {
   "display_name": "R",
   "language": "R",
   "name": "ir"
  },
  "language_info": {
   "codemirror_mode": "r",
   "file_extension": ".r",
   "mimetype": "text/x-r-source",
   "name": "R",
   "pygments_lexer": "r",
   "version": "3.6.1"
  }
 },
 "nbformat": 4,
 "nbformat_minor": 2
}
