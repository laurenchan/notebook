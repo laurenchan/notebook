{
 "cells": [
  {
   "cell_type": "code",
   "execution_count": 15,
   "metadata": {},
   "outputs": [],
   "source": [
    "suppressMessages(library(dplyr))\n",
    "library(tidyr)\n",
    "library(sp)\n",
    "library(raster)\n",
    "library(rgeos)\n",
    "library(rgbif)\n",
    "library(viridis)\n",
    "library(gridExtra)\n",
    "library(rasterVis)\n",
    "library(raster)\n",
    "suppressMessages(library(rgdal))\n",
    "library(sf)"
   ]
  },
  {
   "cell_type": "code",
   "execution_count": 21,
   "metadata": {},
   "outputs": [
    {
     "name": "stderr",
     "output_type": "stream",
     "text": [
      "Warning message in readOGR(\"~/Downloads/gadm36_USA_gpkg/gadm36_USA.gpkg\"):\n",
      "“First layer gadm36_USA_2 read; multiple layers present in\n",
      "/Users/chan5416/Downloads/gadm36_USA_gpkg/gadm36_USA.gpkg, check layers with ogrListLayers()”"
     ]
    },
    {
     "name": "stdout",
     "output_type": "stream",
     "text": [
      "OGR data source with driver: GPKG \n",
      "Source: \"/Users/chan5416/Downloads/gadm36_USA_gpkg/gadm36_USA.gpkg\", layer: \"gadm36_USA_2\"\n",
      "with 3148 features\n",
      "It has 13 fields\n"
     ]
    }
   ],
   "source": [
    "r <- readOGR(\"~/Downloads/gadm36_USA_gpkg/gadm36_USA.gpkg\")"
   ]
  },
  {
   "cell_type": "code",
   "execution_count": null,
   "metadata": {},
   "outputs": [],
   "source": [
    "dplyr_imp <- tbl(src_sqlite(\"~/Downloads/gadm36_USA_gpkg/gadm36_USA.gpkg\"),\n",
    "                \"mydata\")"
   ]
  },
  {
   "cell_type": "code",
   "execution_count": null,
   "metadata": {},
   "outputs": [],
   "source": [
    "class(r)"
   ]
  },
  {
   "cell_type": "code",
   "execution_count": null,
   "metadata": {},
   "outputs": [],
   "source": []
  }
 ],
 "metadata": {
  "kernelspec": {
   "display_name": "R",
   "language": "R",
   "name": "ir"
  },
  "language_info": {
   "codemirror_mode": "r",
   "file_extension": ".r",
   "mimetype": "text/x-r-source",
   "name": "R",
   "pygments_lexer": "r",
   "version": "3.6.1"
  }
 },
 "nbformat": 4,
 "nbformat_minor": 2
}
