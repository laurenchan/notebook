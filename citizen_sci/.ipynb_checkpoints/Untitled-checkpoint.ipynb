{
 "cells": [
  {
   "cell_type": "code",
   "execution_count": 3,
   "metadata": {},
   "outputs": [],
   "source": [
    "suppressMessages(library(dplyr))\n",
    "library(tidyr)\n",
    "library(sp)\n",
    "library(raster)\n",
    "library(rgeos)\n",
    "library(rgbif)\n",
    "library(viridis)\n",
    "library(gridExtra)\n",
    "library(rasterVis)"
   ]
  },
  {
   "cell_type": "markdown",
   "metadata": {},
   "source": [
    "What Katherine is cropping to\n",
    "-80 to -75\n",
    "35-40 latitude"
   ]
  }
 ],
 "metadata": {
  "kernelspec": {
   "display_name": "R",
   "language": "R",
   "name": "ir"
  },
  "language_info": {
   "codemirror_mode": "r",
   "file_extension": ".r",
   "mimetype": "text/x-r-source",
   "name": "R",
   "pygments_lexer": "r",
   "version": "3.6.1"
  }
 },
 "nbformat": 4,
 "nbformat_minor": 2
}
