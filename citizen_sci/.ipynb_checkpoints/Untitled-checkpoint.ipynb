{
 "cells": [
  {
   "cell_type": "markdown",
   "metadata": {},
   "source": [
    "# Filtering a df from ebird"
   ]
  },
  {
   "cell_type": "code",
   "execution_count": 1,
   "metadata": {},
   "outputs": [
    {
     "name": "stderr",
     "output_type": "stream",
     "text": [
      "\n",
      "Attaching package: ‘dplyr’\n",
      "\n",
      "The following objects are masked from ‘package:stats’:\n",
      "\n",
      "    filter, lag\n",
      "\n",
      "The following objects are masked from ‘package:base’:\n",
      "\n",
      "    intersect, setdiff, setequal, union\n",
      "\n"
     ]
    }
   ],
   "source": [
    "library(rebird)\n",
    "library(dplyr)\n",
    "mykey <- \"96h4mi8jusor\"\n",
    "fernhill <- \"L163529\"\n",
    "jbottom <- \"L159584\""
   ]
  },
  {
   "cell_type": "code",
   "execution_count": 2,
   "metadata": {},
   "outputs": [],
   "source": [
    "pullrecords <- function(locality, start, end) {\n",
    "  start <- as.Date (start)\n",
    "  end <- as.Date (end)\n",
    "  dat <- NULL\n",
    "\n",
    "\n",
    "  for (d in seq.Date(start, end, 1)){ \n",
    "    thedate <- as.Date(d, origin= \"1970-01-01\")\n",
    "    day <- ebirdhistorical(loc = locality, date = thedate, key = mykey, fieldSet = \"full\")\n",
    "    dat <- bind_rows(dat, day)\n",
    "  }\n",
    "  dat\n",
    "}"
   ]
  },
  {
   "cell_type": "code",
   "execution_count": 3,
   "metadata": {},
   "outputs": [],
   "source": [
    "df <- pullrecords(jbottom, \"2018-10-01\",\"2018-10-31\")"
   ]
  },
  {
   "cell_type": "markdown",
   "metadata": {},
   "source": [
    "### Number of birds seen for unique observer-observerDate combos"
   ]
  },
  {
   "cell_type": "code",
   "execution_count": 4,
   "metadata": {},
   "outputs": [
    {
     "data": {
      "text/html": [
       "<table>\n",
       "<caption>A grouped_df: 5 × 3</caption>\n",
       "<thead>\n",
       "\t<tr><th scope=col>obsDt</th><th scope=col>userDisplayName</th><th scope=col>sum(howMany, na.rm = TRUE)</th></tr>\n",
       "\t<tr><th scope=col>&lt;chr&gt;</th><th scope=col>&lt;chr&gt;</th><th scope=col>&lt;int&gt;</th></tr>\n",
       "</thead>\n",
       "<tbody>\n",
       "\t<tr><td>2018-10-01 13:11</td><td>Colby Neuman   </td><td>301</td></tr>\n",
       "\t<tr><td>2018-10-03 07:06</td><td>julian hwa     </td><td>162</td></tr>\n",
       "\t<tr><td>2018-10-08 08:45</td><td>Rick Bennett   </td><td>269</td></tr>\n",
       "\t<tr><td>2018-10-23 12:58</td><td>Susan Kirkbride</td><td>681</td></tr>\n",
       "\t<tr><td>2018-10-28 16:00</td><td>Stefan Schlick </td><td> 22</td></tr>\n",
       "</tbody>\n",
       "</table>\n"
      ],
      "text/latex": [
       "A grouped_df: 5 × 3\n",
       "\\begin{tabular}{r|lll}\n",
       " obsDt & userDisplayName & sum(howMany, na.rm = TRUE)\\\\\n",
       " <chr> & <chr> & <int>\\\\\n",
       "\\hline\n",
       "\t 2018-10-01 13:11 & Colby Neuman    & 301\\\\\n",
       "\t 2018-10-03 07:06 & julian hwa      & 162\\\\\n",
       "\t 2018-10-08 08:45 & Rick Bennett    & 269\\\\\n",
       "\t 2018-10-23 12:58 & Susan Kirkbride & 681\\\\\n",
       "\t 2018-10-28 16:00 & Stefan Schlick  &  22\\\\\n",
       "\\end{tabular}\n"
      ],
      "text/markdown": [
       "\n",
       "A grouped_df: 5 × 3\n",
       "\n",
       "| obsDt &lt;chr&gt; | userDisplayName &lt;chr&gt; | sum(howMany, na.rm = TRUE) &lt;int&gt; |\n",
       "|---|---|---|\n",
       "| 2018-10-01 13:11 | Colby Neuman    | 301 |\n",
       "| 2018-10-03 07:06 | julian hwa      | 162 |\n",
       "| 2018-10-08 08:45 | Rick Bennett    | 269 |\n",
       "| 2018-10-23 12:58 | Susan Kirkbride | 681 |\n",
       "| 2018-10-28 16:00 | Stefan Schlick  |  22 |\n",
       "\n"
      ],
      "text/plain": [
       "  obsDt            userDisplayName sum(howMany, na.rm = TRUE)\n",
       "1 2018-10-01 13:11 Colby Neuman    301                       \n",
       "2 2018-10-03 07:06 julian hwa      162                       \n",
       "3 2018-10-08 08:45 Rick Bennett    269                       \n",
       "4 2018-10-23 12:58 Susan Kirkbride 681                       \n",
       "5 2018-10-28 16:00 Stefan Schlick   22                       "
      ]
     },
     "metadata": {},
     "output_type": "display_data"
    }
   ],
   "source": [
    "df %>% group_by(obsDt,userDisplayName) %>% summarize(sum(howMany, na.rm=TRUE))"
   ]
  },
  {
   "cell_type": "markdown",
   "metadata": {},
   "source": [
    "### All the rows for unique observer-observerDate combos"
   ]
  },
  {
   "cell_type": "code",
   "execution_count": 6,
   "metadata": {},
   "outputs": [
    {
     "data": {
      "text/html": [
       "<table>\n",
       "<caption>A grouped_df: 5 × 3</caption>\n",
       "<thead>\n",
       "\t<tr><th scope=col>obsDt</th><th scope=col>userDisplayName</th><th scope=col>n</th></tr>\n",
       "\t<tr><th scope=col>&lt;chr&gt;</th><th scope=col>&lt;chr&gt;</th><th scope=col>&lt;int&gt;</th></tr>\n",
       "</thead>\n",
       "<tbody>\n",
       "\t<tr><td>2018-10-01 13:11</td><td>Colby Neuman   </td><td>44</td></tr>\n",
       "\t<tr><td>2018-10-03 07:06</td><td>julian hwa     </td><td>22</td></tr>\n",
       "\t<tr><td>2018-10-08 08:45</td><td>Rick Bennett   </td><td>34</td></tr>\n",
       "\t<tr><td>2018-10-23 12:58</td><td>Susan Kirkbride</td><td>33</td></tr>\n",
       "\t<tr><td>2018-10-28 16:00</td><td>Stefan Schlick </td><td>22</td></tr>\n",
       "</tbody>\n",
       "</table>\n"
      ],
      "text/latex": [
       "A grouped_df: 5 × 3\n",
       "\\begin{tabular}{r|lll}\n",
       " obsDt & userDisplayName & n\\\\\n",
       " <chr> & <chr> & <int>\\\\\n",
       "\\hline\n",
       "\t 2018-10-01 13:11 & Colby Neuman    & 44\\\\\n",
       "\t 2018-10-03 07:06 & julian hwa      & 22\\\\\n",
       "\t 2018-10-08 08:45 & Rick Bennett    & 34\\\\\n",
       "\t 2018-10-23 12:58 & Susan Kirkbride & 33\\\\\n",
       "\t 2018-10-28 16:00 & Stefan Schlick  & 22\\\\\n",
       "\\end{tabular}\n"
      ],
      "text/markdown": [
       "\n",
       "A grouped_df: 5 × 3\n",
       "\n",
       "| obsDt &lt;chr&gt; | userDisplayName &lt;chr&gt; | n &lt;int&gt; |\n",
       "|---|---|---|\n",
       "| 2018-10-01 13:11 | Colby Neuman    | 44 |\n",
       "| 2018-10-03 07:06 | julian hwa      | 22 |\n",
       "| 2018-10-08 08:45 | Rick Bennett    | 34 |\n",
       "| 2018-10-23 12:58 | Susan Kirkbride | 33 |\n",
       "| 2018-10-28 16:00 | Stefan Schlick  | 22 |\n",
       "\n"
      ],
      "text/plain": [
       "  obsDt            userDisplayName n \n",
       "1 2018-10-01 13:11 Colby Neuman    44\n",
       "2 2018-10-03 07:06 julian hwa      22\n",
       "3 2018-10-08 08:45 Rick Bennett    34\n",
       "4 2018-10-23 12:58 Susan Kirkbride 33\n",
       "5 2018-10-28 16:00 Stefan Schlick  22"
      ]
     },
     "metadata": {},
     "output_type": "display_data"
    }
   ],
   "source": [
    "df %>% group_by(obsDt,userDisplayName) %>% tally()"
   ]
  },
  {
   "cell_type": "markdown",
   "metadata": {},
   "source": [
    "### Number of each species seen for unique observer-observerDate combos"
   ]
  },
  {
   "cell_type": "code",
   "execution_count": 7,
   "metadata": {},
   "outputs": [
    {
     "data": {
      "text/html": [
       "<table>\n",
       "<caption>A grouped_df: 153 × 4</caption>\n",
       "<thead>\n",
       "\t<tr><th scope=col>obsDt</th><th scope=col>userDisplayName</th><th scope=col>comName</th><th scope=col>n</th></tr>\n",
       "\t<tr><th scope=col>&lt;chr&gt;</th><th scope=col>&lt;chr&gt;</th><th scope=col>&lt;chr&gt;</th><th scope=col>&lt;int&gt;</th></tr>\n",
       "</thead>\n",
       "<tbody>\n",
       "\t<tr><td>2018-10-01 13:11</td><td>Colby Neuman</td><td>Accipiter sp.              </td><td>1</td></tr>\n",
       "\t<tr><td>2018-10-01 13:11</td><td>Colby Neuman</td><td>American Coot              </td><td>1</td></tr>\n",
       "\t<tr><td>2018-10-01 13:11</td><td>Colby Neuman</td><td>American Crow              </td><td>1</td></tr>\n",
       "\t<tr><td>2018-10-01 13:11</td><td>Colby Neuman</td><td>American Goldfinch         </td><td>1</td></tr>\n",
       "\t<tr><td>2018-10-01 13:11</td><td>Colby Neuman</td><td>American Kestrel           </td><td>1</td></tr>\n",
       "\t<tr><td>2018-10-01 13:11</td><td>Colby Neuman</td><td>American Robin             </td><td>1</td></tr>\n",
       "\t<tr><td>2018-10-01 13:11</td><td>Colby Neuman</td><td>Bewick's Wren              </td><td>1</td></tr>\n",
       "\t<tr><td>2018-10-01 13:11</td><td>Colby Neuman</td><td>Black-capped Chickadee     </td><td>1</td></tr>\n",
       "\t<tr><td>2018-10-01 13:11</td><td>Colby Neuman</td><td>Black-throated Gray Warbler</td><td>1</td></tr>\n",
       "\t<tr><td>2018-10-01 13:11</td><td>Colby Neuman</td><td>Brown Creeper              </td><td>1</td></tr>\n",
       "\t<tr><td>2018-10-01 13:11</td><td>Colby Neuman</td><td>Bushtit                    </td><td>1</td></tr>\n",
       "\t<tr><td>2018-10-01 13:11</td><td>Colby Neuman</td><td>Cackling Goose             </td><td>1</td></tr>\n",
       "\t<tr><td>2018-10-01 13:11</td><td>Colby Neuman</td><td>California Scrub-Jay       </td><td>1</td></tr>\n",
       "\t<tr><td>2018-10-01 13:11</td><td>Colby Neuman</td><td>Cedar Waxwing              </td><td>1</td></tr>\n",
       "\t<tr><td>2018-10-01 13:11</td><td>Colby Neuman</td><td>Downy Woodpecker           </td><td>1</td></tr>\n",
       "\t<tr><td>2018-10-01 13:11</td><td>Colby Neuman</td><td>Eurasian Collared-Dove     </td><td>1</td></tr>\n",
       "\t<tr><td>2018-10-01 13:11</td><td>Colby Neuman</td><td>European Starling          </td><td>1</td></tr>\n",
       "\t<tr><td>2018-10-01 13:11</td><td>Colby Neuman</td><td>Gadwall                    </td><td>1</td></tr>\n",
       "\t<tr><td>2018-10-01 13:11</td><td>Colby Neuman</td><td>Golden-crowned Sparrow     </td><td>1</td></tr>\n",
       "\t<tr><td>2018-10-01 13:11</td><td>Colby Neuman</td><td>Great Blue Heron           </td><td>1</td></tr>\n",
       "\t<tr><td>2018-10-01 13:11</td><td>Colby Neuman</td><td>Great Egret                </td><td>1</td></tr>\n",
       "\t<tr><td>2018-10-01 13:11</td><td>Colby Neuman</td><td>Greater White-fronted Goose</td><td>1</td></tr>\n",
       "\t<tr><td>2018-10-01 13:11</td><td>Colby Neuman</td><td>Greater Yellowlegs         </td><td>1</td></tr>\n",
       "\t<tr><td>2018-10-01 13:11</td><td>Colby Neuman</td><td>House Finch                </td><td>1</td></tr>\n",
       "\t<tr><td>2018-10-01 13:11</td><td>Colby Neuman</td><td>Killdeer                   </td><td>1</td></tr>\n",
       "\t<tr><td>2018-10-01 13:11</td><td>Colby Neuman</td><td>Lesser Goldfinch           </td><td>1</td></tr>\n",
       "\t<tr><td>2018-10-01 13:11</td><td>Colby Neuman</td><td>Lincoln's Sparrow          </td><td>1</td></tr>\n",
       "\t<tr><td>2018-10-01 13:11</td><td>Colby Neuman</td><td>Mallard                    </td><td>1</td></tr>\n",
       "\t<tr><td>2018-10-01 13:11</td><td>Colby Neuman</td><td>Northern Flicker           </td><td>1</td></tr>\n",
       "\t<tr><td>2018-10-01 13:11</td><td>Colby Neuman</td><td>Pied-billed Grebe          </td><td>1</td></tr>\n",
       "\t<tr><td>⋮</td><td>⋮</td><td>⋮</td><td>⋮</td></tr>\n",
       "\t<tr><td>2018-10-23 12:58</td><td>Susan Kirkbride</td><td>Purple Finch           </td><td>1</td></tr>\n",
       "\t<tr><td>2018-10-23 12:58</td><td>Susan Kirkbride</td><td>Red-shouldered Hawk    </td><td>1</td></tr>\n",
       "\t<tr><td>2018-10-23 12:58</td><td>Susan Kirkbride</td><td>Red-winged Blackbird   </td><td>1</td></tr>\n",
       "\t<tr><td>2018-10-23 12:58</td><td>Susan Kirkbride</td><td>Ruby-crowned Kinglet   </td><td>1</td></tr>\n",
       "\t<tr><td>2018-10-23 12:58</td><td>Susan Kirkbride</td><td>Song Sparrow           </td><td>1</td></tr>\n",
       "\t<tr><td>2018-10-23 12:58</td><td>Susan Kirkbride</td><td>Spotted Towhee         </td><td>1</td></tr>\n",
       "\t<tr><td>2018-10-23 12:58</td><td>Susan Kirkbride</td><td>White-breasted Nuthatch</td><td>1</td></tr>\n",
       "\t<tr><td>2018-10-23 12:58</td><td>Susan Kirkbride</td><td>Wood Duck              </td><td>1</td></tr>\n",
       "\t<tr><td>2018-10-28 16:00</td><td>Stefan Schlick </td><td>American Crow          </td><td>1</td></tr>\n",
       "\t<tr><td>2018-10-28 16:00</td><td>Stefan Schlick </td><td>American Kestrel       </td><td>1</td></tr>\n",
       "\t<tr><td>2018-10-28 16:00</td><td>Stefan Schlick </td><td>American Robin         </td><td>1</td></tr>\n",
       "\t<tr><td>2018-10-28 16:00</td><td>Stefan Schlick </td><td>Black-capped Chickadee </td><td>1</td></tr>\n",
       "\t<tr><td>2018-10-28 16:00</td><td>Stefan Schlick </td><td>Cackling Goose         </td><td>1</td></tr>\n",
       "\t<tr><td>2018-10-28 16:00</td><td>Stefan Schlick </td><td>Canada Goose           </td><td>1</td></tr>\n",
       "\t<tr><td>2018-10-28 16:00</td><td>Stefan Schlick </td><td>Dark-eyed Junco        </td><td>1</td></tr>\n",
       "\t<tr><td>2018-10-28 16:00</td><td>Stefan Schlick </td><td>Downy Woodpecker       </td><td>1</td></tr>\n",
       "\t<tr><td>2018-10-28 16:00</td><td>Stefan Schlick </td><td>Green-winged Teal      </td><td>1</td></tr>\n",
       "\t<tr><td>2018-10-28 16:00</td><td>Stefan Schlick </td><td>House Finch            </td><td>1</td></tr>\n",
       "\t<tr><td>2018-10-28 16:00</td><td>Stefan Schlick </td><td>Killdeer               </td><td>1</td></tr>\n",
       "\t<tr><td>2018-10-28 16:00</td><td>Stefan Schlick </td><td>Mallard                </td><td>1</td></tr>\n",
       "\t<tr><td>2018-10-28 16:00</td><td>Stefan Schlick </td><td>Merlin                 </td><td>1</td></tr>\n",
       "\t<tr><td>2018-10-28 16:00</td><td>Stefan Schlick </td><td>Northern Flicker       </td><td>1</td></tr>\n",
       "\t<tr><td>2018-10-28 16:00</td><td>Stefan Schlick </td><td>Northern Harrier       </td><td>1</td></tr>\n",
       "\t<tr><td>2018-10-28 16:00</td><td>Stefan Schlick </td><td>Northern Pintail       </td><td>1</td></tr>\n",
       "\t<tr><td>2018-10-28 16:00</td><td>Stefan Schlick </td><td>Northern Shrike        </td><td>1</td></tr>\n",
       "\t<tr><td>2018-10-28 16:00</td><td>Stefan Schlick </td><td>Red-shouldered Hawk    </td><td>1</td></tr>\n",
       "\t<tr><td>2018-10-28 16:00</td><td>Stefan Schlick </td><td>Red-tailed Hawk        </td><td>1</td></tr>\n",
       "\t<tr><td>2018-10-28 16:00</td><td>Stefan Schlick </td><td>Red-winged Blackbird   </td><td>1</td></tr>\n",
       "\t<tr><td>2018-10-28 16:00</td><td>Stefan Schlick </td><td>Spotted Towhee         </td><td>1</td></tr>\n",
       "\t<tr><td>2018-10-28 16:00</td><td>Stefan Schlick </td><td>Yellow-rumped Warbler  </td><td>1</td></tr>\n",
       "</tbody>\n",
       "</table>\n"
      ],
      "text/latex": [
       "A grouped_df: 153 × 4\n",
       "\\begin{tabular}{r|llll}\n",
       " obsDt & userDisplayName & comName & n\\\\\n",
       " <chr> & <chr> & <chr> & <int>\\\\\n",
       "\\hline\n",
       "\t 2018-10-01 13:11 & Colby Neuman & Accipiter sp.               & 1\\\\\n",
       "\t 2018-10-01 13:11 & Colby Neuman & American Coot               & 1\\\\\n",
       "\t 2018-10-01 13:11 & Colby Neuman & American Crow               & 1\\\\\n",
       "\t 2018-10-01 13:11 & Colby Neuman & American Goldfinch          & 1\\\\\n",
       "\t 2018-10-01 13:11 & Colby Neuman & American Kestrel            & 1\\\\\n",
       "\t 2018-10-01 13:11 & Colby Neuman & American Robin              & 1\\\\\n",
       "\t 2018-10-01 13:11 & Colby Neuman & Bewick's Wren               & 1\\\\\n",
       "\t 2018-10-01 13:11 & Colby Neuman & Black-capped Chickadee      & 1\\\\\n",
       "\t 2018-10-01 13:11 & Colby Neuman & Black-throated Gray Warbler & 1\\\\\n",
       "\t 2018-10-01 13:11 & Colby Neuman & Brown Creeper               & 1\\\\\n",
       "\t 2018-10-01 13:11 & Colby Neuman & Bushtit                     & 1\\\\\n",
       "\t 2018-10-01 13:11 & Colby Neuman & Cackling Goose              & 1\\\\\n",
       "\t 2018-10-01 13:11 & Colby Neuman & California Scrub-Jay        & 1\\\\\n",
       "\t 2018-10-01 13:11 & Colby Neuman & Cedar Waxwing               & 1\\\\\n",
       "\t 2018-10-01 13:11 & Colby Neuman & Downy Woodpecker            & 1\\\\\n",
       "\t 2018-10-01 13:11 & Colby Neuman & Eurasian Collared-Dove      & 1\\\\\n",
       "\t 2018-10-01 13:11 & Colby Neuman & European Starling           & 1\\\\\n",
       "\t 2018-10-01 13:11 & Colby Neuman & Gadwall                     & 1\\\\\n",
       "\t 2018-10-01 13:11 & Colby Neuman & Golden-crowned Sparrow      & 1\\\\\n",
       "\t 2018-10-01 13:11 & Colby Neuman & Great Blue Heron            & 1\\\\\n",
       "\t 2018-10-01 13:11 & Colby Neuman & Great Egret                 & 1\\\\\n",
       "\t 2018-10-01 13:11 & Colby Neuman & Greater White-fronted Goose & 1\\\\\n",
       "\t 2018-10-01 13:11 & Colby Neuman & Greater Yellowlegs          & 1\\\\\n",
       "\t 2018-10-01 13:11 & Colby Neuman & House Finch                 & 1\\\\\n",
       "\t 2018-10-01 13:11 & Colby Neuman & Killdeer                    & 1\\\\\n",
       "\t 2018-10-01 13:11 & Colby Neuman & Lesser Goldfinch            & 1\\\\\n",
       "\t 2018-10-01 13:11 & Colby Neuman & Lincoln's Sparrow           & 1\\\\\n",
       "\t 2018-10-01 13:11 & Colby Neuman & Mallard                     & 1\\\\\n",
       "\t 2018-10-01 13:11 & Colby Neuman & Northern Flicker            & 1\\\\\n",
       "\t 2018-10-01 13:11 & Colby Neuman & Pied-billed Grebe           & 1\\\\\n",
       "\t ⋮ & ⋮ & ⋮ & ⋮\\\\\n",
       "\t 2018-10-23 12:58 & Susan Kirkbride & Purple Finch            & 1\\\\\n",
       "\t 2018-10-23 12:58 & Susan Kirkbride & Red-shouldered Hawk     & 1\\\\\n",
       "\t 2018-10-23 12:58 & Susan Kirkbride & Red-winged Blackbird    & 1\\\\\n",
       "\t 2018-10-23 12:58 & Susan Kirkbride & Ruby-crowned Kinglet    & 1\\\\\n",
       "\t 2018-10-23 12:58 & Susan Kirkbride & Song Sparrow            & 1\\\\\n",
       "\t 2018-10-23 12:58 & Susan Kirkbride & Spotted Towhee          & 1\\\\\n",
       "\t 2018-10-23 12:58 & Susan Kirkbride & White-breasted Nuthatch & 1\\\\\n",
       "\t 2018-10-23 12:58 & Susan Kirkbride & Wood Duck               & 1\\\\\n",
       "\t 2018-10-28 16:00 & Stefan Schlick  & American Crow           & 1\\\\\n",
       "\t 2018-10-28 16:00 & Stefan Schlick  & American Kestrel        & 1\\\\\n",
       "\t 2018-10-28 16:00 & Stefan Schlick  & American Robin          & 1\\\\\n",
       "\t 2018-10-28 16:00 & Stefan Schlick  & Black-capped Chickadee  & 1\\\\\n",
       "\t 2018-10-28 16:00 & Stefan Schlick  & Cackling Goose          & 1\\\\\n",
       "\t 2018-10-28 16:00 & Stefan Schlick  & Canada Goose            & 1\\\\\n",
       "\t 2018-10-28 16:00 & Stefan Schlick  & Dark-eyed Junco         & 1\\\\\n",
       "\t 2018-10-28 16:00 & Stefan Schlick  & Downy Woodpecker        & 1\\\\\n",
       "\t 2018-10-28 16:00 & Stefan Schlick  & Green-winged Teal       & 1\\\\\n",
       "\t 2018-10-28 16:00 & Stefan Schlick  & House Finch             & 1\\\\\n",
       "\t 2018-10-28 16:00 & Stefan Schlick  & Killdeer                & 1\\\\\n",
       "\t 2018-10-28 16:00 & Stefan Schlick  & Mallard                 & 1\\\\\n",
       "\t 2018-10-28 16:00 & Stefan Schlick  & Merlin                  & 1\\\\\n",
       "\t 2018-10-28 16:00 & Stefan Schlick  & Northern Flicker        & 1\\\\\n",
       "\t 2018-10-28 16:00 & Stefan Schlick  & Northern Harrier        & 1\\\\\n",
       "\t 2018-10-28 16:00 & Stefan Schlick  & Northern Pintail        & 1\\\\\n",
       "\t 2018-10-28 16:00 & Stefan Schlick  & Northern Shrike         & 1\\\\\n",
       "\t 2018-10-28 16:00 & Stefan Schlick  & Red-shouldered Hawk     & 1\\\\\n",
       "\t 2018-10-28 16:00 & Stefan Schlick  & Red-tailed Hawk         & 1\\\\\n",
       "\t 2018-10-28 16:00 & Stefan Schlick  & Red-winged Blackbird    & 1\\\\\n",
       "\t 2018-10-28 16:00 & Stefan Schlick  & Spotted Towhee          & 1\\\\\n",
       "\t 2018-10-28 16:00 & Stefan Schlick  & Yellow-rumped Warbler   & 1\\\\\n",
       "\\end{tabular}\n"
      ],
      "text/markdown": [
       "\n",
       "A grouped_df: 153 × 4\n",
       "\n",
       "| obsDt &lt;chr&gt; | userDisplayName &lt;chr&gt; | comName &lt;chr&gt; | n &lt;int&gt; |\n",
       "|---|---|---|---|\n",
       "| 2018-10-01 13:11 | Colby Neuman | Accipiter sp.               | 1 |\n",
       "| 2018-10-01 13:11 | Colby Neuman | American Coot               | 1 |\n",
       "| 2018-10-01 13:11 | Colby Neuman | American Crow               | 1 |\n",
       "| 2018-10-01 13:11 | Colby Neuman | American Goldfinch          | 1 |\n",
       "| 2018-10-01 13:11 | Colby Neuman | American Kestrel            | 1 |\n",
       "| 2018-10-01 13:11 | Colby Neuman | American Robin              | 1 |\n",
       "| 2018-10-01 13:11 | Colby Neuman | Bewick's Wren               | 1 |\n",
       "| 2018-10-01 13:11 | Colby Neuman | Black-capped Chickadee      | 1 |\n",
       "| 2018-10-01 13:11 | Colby Neuman | Black-throated Gray Warbler | 1 |\n",
       "| 2018-10-01 13:11 | Colby Neuman | Brown Creeper               | 1 |\n",
       "| 2018-10-01 13:11 | Colby Neuman | Bushtit                     | 1 |\n",
       "| 2018-10-01 13:11 | Colby Neuman | Cackling Goose              | 1 |\n",
       "| 2018-10-01 13:11 | Colby Neuman | California Scrub-Jay        | 1 |\n",
       "| 2018-10-01 13:11 | Colby Neuman | Cedar Waxwing               | 1 |\n",
       "| 2018-10-01 13:11 | Colby Neuman | Downy Woodpecker            | 1 |\n",
       "| 2018-10-01 13:11 | Colby Neuman | Eurasian Collared-Dove      | 1 |\n",
       "| 2018-10-01 13:11 | Colby Neuman | European Starling           | 1 |\n",
       "| 2018-10-01 13:11 | Colby Neuman | Gadwall                     | 1 |\n",
       "| 2018-10-01 13:11 | Colby Neuman | Golden-crowned Sparrow      | 1 |\n",
       "| 2018-10-01 13:11 | Colby Neuman | Great Blue Heron            | 1 |\n",
       "| 2018-10-01 13:11 | Colby Neuman | Great Egret                 | 1 |\n",
       "| 2018-10-01 13:11 | Colby Neuman | Greater White-fronted Goose | 1 |\n",
       "| 2018-10-01 13:11 | Colby Neuman | Greater Yellowlegs          | 1 |\n",
       "| 2018-10-01 13:11 | Colby Neuman | House Finch                 | 1 |\n",
       "| 2018-10-01 13:11 | Colby Neuman | Killdeer                    | 1 |\n",
       "| 2018-10-01 13:11 | Colby Neuman | Lesser Goldfinch            | 1 |\n",
       "| 2018-10-01 13:11 | Colby Neuman | Lincoln's Sparrow           | 1 |\n",
       "| 2018-10-01 13:11 | Colby Neuman | Mallard                     | 1 |\n",
       "| 2018-10-01 13:11 | Colby Neuman | Northern Flicker            | 1 |\n",
       "| 2018-10-01 13:11 | Colby Neuman | Pied-billed Grebe           | 1 |\n",
       "| ⋮ | ⋮ | ⋮ | ⋮ |\n",
       "| 2018-10-23 12:58 | Susan Kirkbride | Purple Finch            | 1 |\n",
       "| 2018-10-23 12:58 | Susan Kirkbride | Red-shouldered Hawk     | 1 |\n",
       "| 2018-10-23 12:58 | Susan Kirkbride | Red-winged Blackbird    | 1 |\n",
       "| 2018-10-23 12:58 | Susan Kirkbride | Ruby-crowned Kinglet    | 1 |\n",
       "| 2018-10-23 12:58 | Susan Kirkbride | Song Sparrow            | 1 |\n",
       "| 2018-10-23 12:58 | Susan Kirkbride | Spotted Towhee          | 1 |\n",
       "| 2018-10-23 12:58 | Susan Kirkbride | White-breasted Nuthatch | 1 |\n",
       "| 2018-10-23 12:58 | Susan Kirkbride | Wood Duck               | 1 |\n",
       "| 2018-10-28 16:00 | Stefan Schlick  | American Crow           | 1 |\n",
       "| 2018-10-28 16:00 | Stefan Schlick  | American Kestrel        | 1 |\n",
       "| 2018-10-28 16:00 | Stefan Schlick  | American Robin          | 1 |\n",
       "| 2018-10-28 16:00 | Stefan Schlick  | Black-capped Chickadee  | 1 |\n",
       "| 2018-10-28 16:00 | Stefan Schlick  | Cackling Goose          | 1 |\n",
       "| 2018-10-28 16:00 | Stefan Schlick  | Canada Goose            | 1 |\n",
       "| 2018-10-28 16:00 | Stefan Schlick  | Dark-eyed Junco         | 1 |\n",
       "| 2018-10-28 16:00 | Stefan Schlick  | Downy Woodpecker        | 1 |\n",
       "| 2018-10-28 16:00 | Stefan Schlick  | Green-winged Teal       | 1 |\n",
       "| 2018-10-28 16:00 | Stefan Schlick  | House Finch             | 1 |\n",
       "| 2018-10-28 16:00 | Stefan Schlick  | Killdeer                | 1 |\n",
       "| 2018-10-28 16:00 | Stefan Schlick  | Mallard                 | 1 |\n",
       "| 2018-10-28 16:00 | Stefan Schlick  | Merlin                  | 1 |\n",
       "| 2018-10-28 16:00 | Stefan Schlick  | Northern Flicker        | 1 |\n",
       "| 2018-10-28 16:00 | Stefan Schlick  | Northern Harrier        | 1 |\n",
       "| 2018-10-28 16:00 | Stefan Schlick  | Northern Pintail        | 1 |\n",
       "| 2018-10-28 16:00 | Stefan Schlick  | Northern Shrike         | 1 |\n",
       "| 2018-10-28 16:00 | Stefan Schlick  | Red-shouldered Hawk     | 1 |\n",
       "| 2018-10-28 16:00 | Stefan Schlick  | Red-tailed Hawk         | 1 |\n",
       "| 2018-10-28 16:00 | Stefan Schlick  | Red-winged Blackbird    | 1 |\n",
       "| 2018-10-28 16:00 | Stefan Schlick  | Spotted Towhee          | 1 |\n",
       "| 2018-10-28 16:00 | Stefan Schlick  | Yellow-rumped Warbler   | 1 |\n",
       "\n"
      ],
      "text/plain": [
       "    obsDt            userDisplayName comName                     n\n",
       "1   2018-10-01 13:11 Colby Neuman    Accipiter sp.               1\n",
       "2   2018-10-01 13:11 Colby Neuman    American Coot               1\n",
       "3   2018-10-01 13:11 Colby Neuman    American Crow               1\n",
       "4   2018-10-01 13:11 Colby Neuman    American Goldfinch          1\n",
       "5   2018-10-01 13:11 Colby Neuman    American Kestrel            1\n",
       "6   2018-10-01 13:11 Colby Neuman    American Robin              1\n",
       "7   2018-10-01 13:11 Colby Neuman    Bewick's Wren               1\n",
       "8   2018-10-01 13:11 Colby Neuman    Black-capped Chickadee      1\n",
       "9   2018-10-01 13:11 Colby Neuman    Black-throated Gray Warbler 1\n",
       "10  2018-10-01 13:11 Colby Neuman    Brown Creeper               1\n",
       "11  2018-10-01 13:11 Colby Neuman    Bushtit                     1\n",
       "12  2018-10-01 13:11 Colby Neuman    Cackling Goose              1\n",
       "13  2018-10-01 13:11 Colby Neuman    California Scrub-Jay        1\n",
       "14  2018-10-01 13:11 Colby Neuman    Cedar Waxwing               1\n",
       "15  2018-10-01 13:11 Colby Neuman    Downy Woodpecker            1\n",
       "16  2018-10-01 13:11 Colby Neuman    Eurasian Collared-Dove      1\n",
       "17  2018-10-01 13:11 Colby Neuman    European Starling           1\n",
       "18  2018-10-01 13:11 Colby Neuman    Gadwall                     1\n",
       "19  2018-10-01 13:11 Colby Neuman    Golden-crowned Sparrow      1\n",
       "20  2018-10-01 13:11 Colby Neuman    Great Blue Heron            1\n",
       "21  2018-10-01 13:11 Colby Neuman    Great Egret                 1\n",
       "22  2018-10-01 13:11 Colby Neuman    Greater White-fronted Goose 1\n",
       "23  2018-10-01 13:11 Colby Neuman    Greater Yellowlegs          1\n",
       "24  2018-10-01 13:11 Colby Neuman    House Finch                 1\n",
       "25  2018-10-01 13:11 Colby Neuman    Killdeer                    1\n",
       "26  2018-10-01 13:11 Colby Neuman    Lesser Goldfinch            1\n",
       "27  2018-10-01 13:11 Colby Neuman    Lincoln's Sparrow           1\n",
       "28  2018-10-01 13:11 Colby Neuman    Mallard                     1\n",
       "29  2018-10-01 13:11 Colby Neuman    Northern Flicker            1\n",
       "30  2018-10-01 13:11 Colby Neuman    Pied-billed Grebe           1\n",
       "⋮   ⋮                ⋮               ⋮                           ⋮\n",
       "124 2018-10-23 12:58 Susan Kirkbride Purple Finch                1\n",
       "125 2018-10-23 12:58 Susan Kirkbride Red-shouldered Hawk         1\n",
       "126 2018-10-23 12:58 Susan Kirkbride Red-winged Blackbird        1\n",
       "127 2018-10-23 12:58 Susan Kirkbride Ruby-crowned Kinglet        1\n",
       "128 2018-10-23 12:58 Susan Kirkbride Song Sparrow                1\n",
       "129 2018-10-23 12:58 Susan Kirkbride Spotted Towhee              1\n",
       "130 2018-10-23 12:58 Susan Kirkbride White-breasted Nuthatch     1\n",
       "131 2018-10-23 12:58 Susan Kirkbride Wood Duck                   1\n",
       "132 2018-10-28 16:00 Stefan Schlick  American Crow               1\n",
       "133 2018-10-28 16:00 Stefan Schlick  American Kestrel            1\n",
       "134 2018-10-28 16:00 Stefan Schlick  American Robin              1\n",
       "135 2018-10-28 16:00 Stefan Schlick  Black-capped Chickadee      1\n",
       "136 2018-10-28 16:00 Stefan Schlick  Cackling Goose              1\n",
       "137 2018-10-28 16:00 Stefan Schlick  Canada Goose                1\n",
       "138 2018-10-28 16:00 Stefan Schlick  Dark-eyed Junco             1\n",
       "139 2018-10-28 16:00 Stefan Schlick  Downy Woodpecker            1\n",
       "140 2018-10-28 16:00 Stefan Schlick  Green-winged Teal           1\n",
       "141 2018-10-28 16:00 Stefan Schlick  House Finch                 1\n",
       "142 2018-10-28 16:00 Stefan Schlick  Killdeer                    1\n",
       "143 2018-10-28 16:00 Stefan Schlick  Mallard                     1\n",
       "144 2018-10-28 16:00 Stefan Schlick  Merlin                      1\n",
       "145 2018-10-28 16:00 Stefan Schlick  Northern Flicker            1\n",
       "146 2018-10-28 16:00 Stefan Schlick  Northern Harrier            1\n",
       "147 2018-10-28 16:00 Stefan Schlick  Northern Pintail            1\n",
       "148 2018-10-28 16:00 Stefan Schlick  Northern Shrike             1\n",
       "149 2018-10-28 16:00 Stefan Schlick  Red-shouldered Hawk         1\n",
       "150 2018-10-28 16:00 Stefan Schlick  Red-tailed Hawk             1\n",
       "151 2018-10-28 16:00 Stefan Schlick  Red-winged Blackbird        1\n",
       "152 2018-10-28 16:00 Stefan Schlick  Spotted Towhee              1\n",
       "153 2018-10-28 16:00 Stefan Schlick  Yellow-rumped Warbler       1"
      ]
     },
     "metadata": {},
     "output_type": "display_data"
    }
   ],
   "source": [
    "df %>% group_by(obsDt,userDisplayName) %>% count(comName)"
   ]
  },
  {
   "cell_type": "markdown",
   "metadata": {},
   "source": [
    "### Number of species for unique observer-observerDate combos "
   ]
  },
  {
   "cell_type": "code",
   "execution_count": 8,
   "metadata": {},
   "outputs": [
    {
     "data": {
      "text/html": [
       "<table>\n",
       "<caption>A grouped_df: 5 × 3</caption>\n",
       "<thead>\n",
       "\t<tr><th scope=col>obsDt</th><th scope=col>userDisplayName</th><th scope=col>n</th></tr>\n",
       "\t<tr><th scope=col>&lt;chr&gt;</th><th scope=col>&lt;chr&gt;</th><th scope=col>&lt;int&gt;</th></tr>\n",
       "</thead>\n",
       "<tbody>\n",
       "\t<tr><td>2018-10-01 13:11</td><td>Colby Neuman   </td><td>42</td></tr>\n",
       "\t<tr><td>2018-10-03 07:06</td><td>julian hwa     </td><td>22</td></tr>\n",
       "\t<tr><td>2018-10-08 08:45</td><td>Rick Bennett   </td><td>34</td></tr>\n",
       "\t<tr><td>2018-10-23 12:58</td><td>Susan Kirkbride</td><td>33</td></tr>\n",
       "\t<tr><td>2018-10-28 16:00</td><td>Stefan Schlick </td><td>22</td></tr>\n",
       "</tbody>\n",
       "</table>\n"
      ],
      "text/latex": [
       "A grouped_df: 5 × 3\n",
       "\\begin{tabular}{r|lll}\n",
       " obsDt & userDisplayName & n\\\\\n",
       " <chr> & <chr> & <int>\\\\\n",
       "\\hline\n",
       "\t 2018-10-01 13:11 & Colby Neuman    & 42\\\\\n",
       "\t 2018-10-03 07:06 & julian hwa      & 22\\\\\n",
       "\t 2018-10-08 08:45 & Rick Bennett    & 34\\\\\n",
       "\t 2018-10-23 12:58 & Susan Kirkbride & 33\\\\\n",
       "\t 2018-10-28 16:00 & Stefan Schlick  & 22\\\\\n",
       "\\end{tabular}\n"
      ],
      "text/markdown": [
       "\n",
       "A grouped_df: 5 × 3\n",
       "\n",
       "| obsDt &lt;chr&gt; | userDisplayName &lt;chr&gt; | n &lt;int&gt; |\n",
       "|---|---|---|\n",
       "| 2018-10-01 13:11 | Colby Neuman    | 42 |\n",
       "| 2018-10-03 07:06 | julian hwa      | 22 |\n",
       "| 2018-10-08 08:45 | Rick Bennett    | 34 |\n",
       "| 2018-10-23 12:58 | Susan Kirkbride | 33 |\n",
       "| 2018-10-28 16:00 | Stefan Schlick  | 22 |\n",
       "\n"
      ],
      "text/plain": [
       "  obsDt            userDisplayName n \n",
       "1 2018-10-01 13:11 Colby Neuman    42\n",
       "2 2018-10-03 07:06 julian hwa      22\n",
       "3 2018-10-08 08:45 Rick Bennett    34\n",
       "4 2018-10-23 12:58 Susan Kirkbride 33\n",
       "5 2018-10-28 16:00 Stefan Schlick  22"
      ]
     },
     "metadata": {},
     "output_type": "display_data"
    }
   ],
   "source": [
    "df %>% group_by(obsDt,userDisplayName) %>% count(comName) %>% tally()"
   ]
  },
  {
   "cell_type": "code",
   "execution_count": null,
   "metadata": {},
   "outputs": [],
   "source": []
  }
 ],
 "metadata": {
  "kernelspec": {
   "display_name": "R",
   "language": "R",
   "name": "ir"
  },
  "language_info": {
   "codemirror_mode": "r",
   "file_extension": ".r",
   "mimetype": "text/x-r-source",
   "name": "R",
   "pygments_lexer": "r",
   "version": "3.6.1"
  }
 },
 "nbformat": 4,
 "nbformat_minor": 2
}
