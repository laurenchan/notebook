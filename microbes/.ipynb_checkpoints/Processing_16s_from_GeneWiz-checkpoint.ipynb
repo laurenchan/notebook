{
 "cells": [
  {
   "cell_type": "markdown",
   "metadata": {},
   "source": [
    "# Processing 16s rRNA sequences\n",
    "Running locally on Mac or Linux system.\n",
    "\n",
    "Testing on run of multiple samples so that I can try some of the visuals"
   ]
  },
  {
   "cell_type": "markdown",
   "metadata": {},
   "source": [
    "### If you are running in Terminal (on Mac or on Linux Machine). \n",
    "Skip next step if using Virtual Boz"
   ]
  },
  {
   "cell_type": "code",
   "execution_count": 1,
   "metadata": {},
   "outputs": [],
   "source": [
    "source activate qiime2-2019.7"
   ]
  },
  {
   "cell_type": "markdown",
   "metadata": {},
   "source": [
    "### cd into folder with your sequences\n",
    "Also need manifest file and metadata file.\n",
    "See examples."
   ]
  },
  {
   "cell_type": "code",
   "execution_count": 2,
   "metadata": {},
   "outputs": [
    {
     "name": "stdout",
     "output_type": "stream",
     "text": [
      "FH1_manifest.csv\t\tHB02-CM01_R1_001.fastq.gz\n",
      "FH1_sample_metadata.tsv\t\tHB02-CM01_R2_001.fastq.gz\n",
      "HB01-FM01_R1_001.fastq.gz\tHB03-EM01_R1_001.fastq.gz\n",
      "HB01-FM01_R2_001.fastq.gz\tHB03-EM01_R2_001.fastq.gz\n"
     ]
    }
   ],
   "source": [
    "cd ~/Desktop/example_microbes     # For example\n",
    "ls"
   ]
  },
  {
   "cell_type": "markdown",
   "metadata": {},
   "source": [
    "#### Look at the manifest and metadata files"
   ]
  },
  {
   "cell_type": "code",
   "execution_count": 3,
   "metadata": {},
   "outputs": [
    {
     "name": "stdout",
     "output_type": "stream",
     "text": [
      "sample-id,absolute-filepath,direction\n",
      "FM01,$PWD/HB01-FM01_R1_001.fastq.gz,forward\n",
      "FM01,$PWD/HB01-FM01_R2_001.fastq.gz,reverse\n",
      "CM01,$PWD/HB02-CM01_R1_001.fastq.gz,forward\n",
      "CM01,$PWD/HB02-CM01_R2_001.fastq.gz,reverse\n",
      "EM01,$PWD/HB03-EM01_R1_001.fastq.gz,forward\n",
      "EM01,$PWD/HB03-EM01_R2_001.fastq.gz,reverse\n"
     ]
    }
   ],
   "source": [
    "cat FH1_manifest.csv"
   ]
  },
  {
   "cell_type": "code",
   "execution_count": 4,
   "metadata": {},
   "outputs": [
    {
     "name": "stdout",
     "output_type": "stream",
     "text": [
      "#SampleID\tBarcodeSequence\tType\tReplicate\n",
      "#q2:types\tcategorical\tcategorical\tcategorical\n",
      "FM01\tCCTACGGG\tFM\tfirst\n",
      "CM01\tCCTACGGG\tCM\tfirst\n",
      "EM01\tCCTACGGG\tEM\tfirst"
     ]
    }
   ],
   "source": [
    "cat FH1_sample_metadata.tsv"
   ]
  },
  {
   "cell_type": "markdown",
   "metadata": {},
   "source": [
    "## Import data into QIIME2\n",
    "In this example, these are paired end 250 bp sequences from Illumina MiSeq.\n",
    "For each of these commands you can type all on one line. Omit the \"\\\" at the end of each line if you do that."
   ]
  },
  {
   "cell_type": "code",
   "execution_count": 5,
   "metadata": {},
   "outputs": [
    {
     "name": "stdout",
     "output_type": "stream",
     "text": [
      "\u001b[32mImported FH1_manifest.csv as PairedEndFastqManifestPhred33 to FH1_demux.qza\u001b[0m\n"
     ]
    }
   ],
   "source": [
    "qiime tools import --type 'SampleData[PairedEndSequencesWithQuality]' \\\n",
    "    --input-path FH1_manifest.csv \\\n",
    "    --output-path FH1_demux.qza \\\n",
    "    --input-format 'PairedEndFastqManifestPhred33'"
   ]
  },
  {
   "cell_type": "markdown",
   "metadata": {},
   "source": [
    "Save as a visualization artifact using `demux summarize`"
   ]
  },
  {
   "cell_type": "code",
   "execution_count": 6,
   "metadata": {},
   "outputs": [
    {
     "name": "stdout",
     "output_type": "stream",
     "text": [
      "\u001b[32mSaved Visualization to: FH1_demux.qzv\u001b[0m\n"
     ]
    }
   ],
   "source": [
    "qiime demux summarize --i-data FH1_demux.qza --o-visualization FH1_demux.qzv"
   ]
  },
  {
   "attachments": {},
   "cell_type": "markdown",
   "metadata": {},
   "source": [
    "View the resulting qzv file on view.qiime2.org and determine where to trim primers and truncate sequences.\n",
    "![demux_output.png](attachment:demux_output.png)"
   ]
  },
  {
   "cell_type": "markdown",
   "metadata": {},
   "source": [
    "## Denoise Data\n",
    "This step can take a long time. Run on Linux or on iMac in lab."
   ]
  },
  {
   "cell_type": "code",
   "execution_count": 7,
   "metadata": {},
   "outputs": [
    {
     "name": "stdout",
     "output_type": "stream",
     "text": [
      "\u001b[32mSaved FeatureTable[Frequency] to: FH1_table.qza\u001b[0m\n",
      "\u001b[32mSaved FeatureData[Sequence] to: FH1_rep-seqs.qza\u001b[0m\n",
      "\u001b[32mSaved SampleData[DADA2Stats] to: FH1_denoising-stats.qza\u001b[0m\n"
     ]
    }
   ],
   "source": [
    "qiime dada2 denoise-paired \\\n",
    "    --i-demultiplexed-seqs FH1_demux.qza \\\n",
    "    --p-trim-left-f 12 \\\n",
    "    --p-trim-left-r 13 \\\n",
    "    --p-trunc-len-f 237 \\\n",
    "    --p-trunc-len-r 229 \\\n",
    "    --o-table FH1_table.qza \\\n",
    "    --o-representative-sequences FH1_rep-seqs.qza \\\n",
    "    --o-denoising-stats FH1_denoising-stats.qza"
   ]
  },
  {
   "cell_type": "markdown",
   "metadata": {},
   "source": [
    "## Classify sequences\n",
    "You will need a classifier to classify your sequences. There are two that I can give you... One is based on GreenGenes Database. The other is the SILVA database. Below are two different options with full paths to the classifiers. These are big files and I don't want to copy into every analysis folder."
   ]
  },
  {
   "cell_type": "markdown",
   "metadata": {},
   "source": [
    "### Using SILVA"
   ]
  },
  {
   "cell_type": "code",
   "execution_count": 8,
   "metadata": {},
   "outputs": [
    {
     "name": "stdout",
     "output_type": "stream",
     "text": [
      "\u001b[32mSaved FeatureData[Taxonomy] to: FH1_SILVAtaxonomy.qza\u001b[0m\n"
     ]
    }
   ],
   "source": [
    "# Using SILVA\n",
    "qiime feature-classifier classify-sklearn \\\n",
    "  --i-classifier ~/Documents/QIIME2_Resources/silva99_16s_classifier.qza \\\n",
    "  --i-reads FH1_rep-seqs.qza \\\n",
    "  --o-classification FH1_SILVAtaxonomy.qza"
   ]
  },
  {
   "cell_type": "code",
   "execution_count": 9,
   "metadata": {},
   "outputs": [
    {
     "name": "stdout",
     "output_type": "stream",
     "text": [
      "\u001b[32mSaved Visualization to: FH1_SILVAtaxonomy.qzv\u001b[0m\n"
     ]
    }
   ],
   "source": [
    "qiime metadata tabulate \\\n",
    "  --m-input-file FH1_SILVAtaxonomy.qza \\\n",
    "  --o-visualization FH1_SILVAtaxonomy.qzv"
   ]
  },
  {
   "cell_type": "markdown",
   "metadata": {},
   "source": [
    "### Using GreenGenes"
   ]
  },
  {
   "cell_type": "code",
   "execution_count": 11,
   "metadata": {},
   "outputs": [
    {
     "name": "stdout",
     "output_type": "stream",
     "text": [
      "\u001b[32mSaved FeatureData[Taxonomy] to: FH1_GGtaxonomy.qza\u001b[0m\n"
     ]
    }
   ],
   "source": [
    "qiime feature-classifier classify-sklearn \\\n",
    "  --i-classifier ~/Documents/QIIME2_Resources/gg-13-8-99-nb-classifier.qza \\\n",
    "  --i-reads FH1_rep-seqs.qza \\\n",
    "  --o-classification FH1_GGtaxonomy.qza"
   ]
  },
  {
   "cell_type": "code",
   "execution_count": 12,
   "metadata": {},
   "outputs": [
    {
     "name": "stdout",
     "output_type": "stream",
     "text": [
      "\u001b[32mSaved Visualization to: FH1_GGtaxonomy.qzv\u001b[0m\n"
     ]
    }
   ],
   "source": [
    "qiime metadata tabulate \\\n",
    "  --m-input-file FH1_GGtaxonomy.qza \\\n",
    "  --o-visualization FH1_GGtaxonomy.qzv"
   ]
  },
  {
   "cell_type": "markdown",
   "metadata": {},
   "source": [
    "## Visualizations\n",
    "Use the taxonomy files that you generated above. You'll need to change the input filenames accordingly. Also change the output filenames in such a way so that you can keep track of the results."
   ]
  },
  {
   "cell_type": "markdown",
   "metadata": {},
   "source": [
    "#### Make barplots based on taxonomy.\n",
    "These show the proportion of reads for each taxa within a sample."
   ]
  },
  {
   "cell_type": "code",
   "execution_count": 10,
   "metadata": {},
   "outputs": [
    {
     "name": "stdout",
     "output_type": "stream",
     "text": [
      "\u001b[32mSaved Visualization to: FH1_SILVAtaxa-bar-plots.qzv\u001b[0m\n"
     ]
    }
   ],
   "source": [
    "qiime taxa barplot \\\n",
    "    --i-table FH1_table.qza \\\n",
    "    --i-taxonomy FH1_SILVAtaxonomy.qza \\\n",
    "    --m-metadata-file FH1_sample_metadata.tsv \\\n",
    "    --o-visualization FH1_SILVAtaxa-bar-plots.qzv"
   ]
  },
  {
   "cell_type": "code",
   "execution_count": 13,
   "metadata": {},
   "outputs": [
    {
     "name": "stdout",
     "output_type": "stream",
     "text": [
      "\u001b[32mSaved Visualization to: FH1_GGtaxa-bar-plots.qzv\u001b[0m\n"
     ]
    }
   ],
   "source": [
    "qiime taxa barplot \\\n",
    "    --i-table FH1_table.qza \\\n",
    "    --i-taxonomy FH1_GGtaxonomy.qza \\\n",
    "    --m-metadata-file FH1_sample_metadata.tsv \\\n",
    "    --o-visualization FH1_GGtaxa-bar-plots.qzv"
   ]
  },
  {
   "cell_type": "markdown",
   "metadata": {},
   "source": [
    "#### Make a phylogeny and use that to determine rarefactiion curve\n",
    "Rarefaction curve is a taxon accumulation curve... it tells you if adding more sequences increases the richness/diversity or not. If your curve levels out, then you've sampled all that is there to be sampled (generally speaking)."
   ]
  },
  {
   "cell_type": "code",
   "execution_count": 14,
   "metadata": {},
   "outputs": [
    {
     "name": "stdout",
     "output_type": "stream",
     "text": [
      "\u001b[32mSaved FeatureData[AlignedSequence] to: FH1_aligned-rep-seqs.qza\u001b[0m\n",
      "\u001b[32mSaved FeatureData[AlignedSequence] to: FH1_masked-aligned-rep-seqs.qza\u001b[0m\n",
      "\u001b[32mSaved Phylogeny[Unrooted] to: FH1_unrooted-tree.qza\u001b[0m\n",
      "\u001b[32mSaved Phylogeny[Rooted] to: FH1_rooted-tree.qza\u001b[0m\n"
     ]
    }
   ],
   "source": [
    "qiime phylogeny align-to-tree-mafft-fasttree \\\n",
    "  --i-sequences FH1_rep-seqs.qza \\\n",
    "  --o-alignment FH1_aligned-rep-seqs.qza \\\n",
    "  --o-masked-alignment FH1_masked-aligned-rep-seqs.qza \\\n",
    "  --o-tree FH1_unrooted-tree.qza \\\n",
    "  --o-rooted-tree FH1_rooted-tree.qza"
   ]
  },
  {
   "cell_type": "code",
   "execution_count": 15,
   "metadata": {},
   "outputs": [
    {
     "name": "stdout",
     "output_type": "stream",
     "text": [
      "\u001b[32mSaved Visualization to: FH1_alpha-rarefaction.qzv\u001b[0m\n"
     ]
    }
   ],
   "source": [
    "qiime diversity alpha-rarefaction \\\n",
    "  --i-table FH1_table.qza \\\n",
    "  --i-phylogeny FH1_rooted-tree.qza \\\n",
    "  --p-max-depth 4000 \\\n",
    "  --m-metadata-file FH1_sample_metadata.tsv  \\\n",
    "  --o-visualization FH1_alpha-rarefaction.qzv\n",
    "  "
   ]
  },
  {
   "cell_type": "code",
   "execution_count": 16,
   "metadata": {},
   "outputs": [
    {
     "name": "stdout",
     "output_type": "stream",
     "text": [
      "\u001b[32mSaved FeatureTable[Frequency] to: FH1_core-metrics-results/rarefied_table.qza\u001b[0m\n",
      "\u001b[32mSaved SampleData[AlphaDiversity] % Properties('phylogenetic') to: FH1_core-metrics-results/faith_pd_vector.qza\u001b[0m\n",
      "\u001b[32mSaved SampleData[AlphaDiversity] to: FH1_core-metrics-results/observed_otus_vector.qza\u001b[0m\n",
      "\u001b[32mSaved SampleData[AlphaDiversity] to: FH1_core-metrics-results/shannon_vector.qza\u001b[0m\n",
      "\u001b[32mSaved SampleData[AlphaDiversity] to: FH1_core-metrics-results/evenness_vector.qza\u001b[0m\n",
      "\u001b[32mSaved DistanceMatrix % Properties('phylogenetic') to: FH1_core-metrics-results/unweighted_unifrac_distance_matrix.qza\u001b[0m\n",
      "\u001b[32mSaved DistanceMatrix % Properties('phylogenetic') to: FH1_core-metrics-results/weighted_unifrac_distance_matrix.qza\u001b[0m\n",
      "\u001b[32mSaved DistanceMatrix to: FH1_core-metrics-results/jaccard_distance_matrix.qza\u001b[0m\n",
      "\u001b[32mSaved DistanceMatrix to: FH1_core-metrics-results/bray_curtis_distance_matrix.qza\u001b[0m\n",
      "\u001b[32mSaved PCoAResults to: FH1_core-metrics-results/unweighted_unifrac_pcoa_results.qza\u001b[0m\n",
      "\u001b[32mSaved PCoAResults to: FH1_core-metrics-results/weighted_unifrac_pcoa_results.qza\u001b[0m\n",
      "\u001b[32mSaved PCoAResults to: FH1_core-metrics-results/jaccard_pcoa_results.qza\u001b[0m\n",
      "\u001b[32mSaved PCoAResults to: FH1_core-metrics-results/bray_curtis_pcoa_results.qza\u001b[0m\n",
      "\u001b[32mSaved Visualization to: FH1_core-metrics-results/unweighted_unifrac_emperor.qzv\u001b[0m\n",
      "\u001b[32mSaved Visualization to: FH1_core-metrics-results/weighted_unifrac_emperor.qzv\u001b[0m\n",
      "\u001b[32mSaved Visualization to: FH1_core-metrics-results/jaccard_emperor.qzv\u001b[0m\n",
      "\u001b[32mSaved Visualization to: FH1_core-metrics-results/bray_curtis_emperor.qzv\u001b[0m\n"
     ]
    }
   ],
   "source": [
    "qiime diversity core-metrics-phylogenetic \\\n",
    "  --i-phylogeny FH1_rooted-tree.qza \\\n",
    "  --i-table FH1_table.qza \\\n",
    "  --p-sampling-depth 1103 \\\n",
    "  --m-metadata-file FH1_sample_metadata.tsv \\\n",
    "  --output-dir FH1_core-metrics-results"
   ]
  },
  {
   "cell_type": "markdown",
   "metadata": {},
   "source": [
    "## To end your QIIME session type"
   ]
  },
  {
   "cell_type": "code",
   "execution_count": 17,
   "metadata": {},
   "outputs": [
    {
     "name": "stdout",
     "output_type": "stream",
     "text": [
      "exit\n",
      "Saving session...\n",
      "...saving history...truncating history files...\n",
      "...completed.\n",
      "Restarting Bash"
     ]
    }
   ],
   "source": [
    "conda deactivate\n",
    "exit"
   ]
  },
  {
   "cell_type": "code",
   "execution_count": null,
   "metadata": {},
   "outputs": [],
   "source": []
  }
 ],
 "metadata": {
  "kernelspec": {
   "display_name": "Bash",
   "language": "bash",
   "name": "bash"
  },
  "language_info": {
   "codemirror_mode": "shell",
   "file_extension": ".sh",
   "mimetype": "text/x-sh",
   "name": "bash"
  }
 },
 "nbformat": 4,
 "nbformat_minor": 2
}
