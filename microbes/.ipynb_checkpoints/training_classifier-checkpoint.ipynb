{
 "cells": [
  {
   "cell_type": "markdown",
   "metadata": {},
   "source": [
    "# Training the RDP Classifier\n",
    "\n",
    "Started by downloading Silva 99% OTUs full length sequences from the QIIME2 Data Resources page\n",
    "https://docs.qiime2.org/2019.7/data-resources/\n",
    "\n",
    "Pulling code from here: https://docs.qiime2.org/2019.7/tutorials/feature-classifier/ Note that there are some important modifications"
   ]
  },
  {
   "cell_type": "code",
   "execution_count": 1,
   "metadata": {},
   "outputs": [
    {
     "name": "stdout",
     "output_type": "stream",
     "text": [
      "/Users/chan5416/Documents/GitHub/notebook/microbes\n"
     ]
    }
   ],
   "source": [
    "pwd"
   ]
  },
  {
   "cell_type": "code",
   "execution_count": 12,
   "metadata": {},
   "outputs": [],
   "source": [
    "cd ~/Documents/QIIME2_Resources/silva99otus"
   ]
  },
  {
   "cell_type": "code",
   "execution_count": 3,
   "metadata": {},
   "outputs": [],
   "source": [
    "source activate qiime2-2019.7"
   ]
  },
  {
   "cell_type": "code",
   "execution_count": 4,
   "metadata": {},
   "outputs": [
    {
     "name": "stdout",
     "output_type": "stream",
     "text": [
      "\u001b[32mImported silva_132_99_16S.fna as DNASequencesDirectoryFormat to silva_132_99_16S.qza\u001b[0m\n"
     ]
    }
   ],
   "source": [
    "qiime tools import --type 'FeatureData[Sequence]' \\\n",
    "    --input-path silva_132_99_16S.fna \\\n",
    "    --output-path silva_132_99_16S.qza"
   ]
  },
  {
   "cell_type": "code",
   "execution_count": 5,
   "metadata": {
    "scrolled": true
   },
   "outputs": [
    {
     "name": "stdout",
     "output_type": "stream",
     "text": [
      "\u001b[32mImported taxonomy_7_levels.txt as HeaderlessTSVTaxonomyFormat to silva99_tax_7_levels.qza\u001b[0m\n"
     ]
    }
   ],
   "source": [
    "qiime tools import \\\n",
    "  --type 'FeatureData[Taxonomy]' \\\n",
    "  --input-format HeaderlessTSVTaxonomyFormat \\\n",
    "  --input-path taxonomy_7_levels.txt \\\n",
    "  --output-path silva99_tax_7_levels.qza"
   ]
  },
  {
   "cell_type": "markdown",
   "metadata": {},
   "source": [
    "### Extract the target region from the reference sequences \n",
    "do not use --p-trunc-len"
   ]
  },
  {
   "cell_type": "code",
   "execution_count": 6,
   "metadata": {},
   "outputs": [
    {
     "name": "stdout",
     "output_type": "stream",
     "text": [
      "\u001b[32mSaved FeatureData[Sequence] to: silva_132_99_16s_trim_refs.qza\u001b[0m\n"
     ]
    }
   ],
   "source": [
    "qiime feature-classifier extract-reads \\\n",
    "  --i-sequences silva_132_99_16S.qza \\\n",
    "  --p-f-primer CCTACGGGNGGCWGCAG \\\n",
    "  --p-r-primer GACTACHVGGGTATCTAATCC \\\n",
    "  --p-min-length 360 \\\n",
    "  --p-max-length 560 \\\n",
    "  --o-reads silva_132_99_16s_trim_refs.qza"
   ]
  },
  {
   "cell_type": "markdown",
   "metadata": {},
   "source": [
    "### Train the classifier\n",
    "Naive Bayes classifier. Uses the reference reads and taxonomy just created."
   ]
  },
  {
   "cell_type": "code",
   "execution_count": null,
   "metadata": {},
   "outputs": [],
   "source": [
    "qiime feature-classifier fit-classifier-naive-bayes \\\n",
    "  --i-reference-reads silva_132_99_16s_trim_refs.qza \\\n",
    "  --i-reference-taxonomy silva99_tax_7_levels.qza \\\n",
    "  --o-classifier silva99_16s_classifier.qza"
   ]
  },
  {
   "cell_type": "code",
   "execution_count": 13,
   "metadata": {},
   "outputs": [],
   "source": [
    "conda deactivate"
   ]
  },
  {
   "cell_type": "code",
   "execution_count": null,
   "metadata": {},
   "outputs": [],
   "source": []
  }
 ],
 "metadata": {
  "kernelspec": {
   "display_name": "Bash",
   "language": "bash",
   "name": "bash"
  },
  "language_info": {
   "codemirror_mode": "shell",
   "file_extension": ".sh",
   "mimetype": "text/x-sh",
   "name": "bash"
  }
 },
 "nbformat": 4,
 "nbformat_minor": 2
}
