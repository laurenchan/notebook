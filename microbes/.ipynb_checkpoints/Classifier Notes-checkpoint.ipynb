{
 "cells": [
  {
   "cell_type": "markdown",
   "metadata": {},
   "source": [
    "# Trained classifiers\n",
    "\n",
    "silva99_majtax_7.qza\n",
    "silva99_16s_majtax7_classifier.qza\n",
    "\n",
    "silva99_tax_7_levels.qza\n",
    "silva99_16s_classifier.qza"
   ]
  }
 ],
 "metadata": {
  "kernelspec": {
   "display_name": "Bash",
   "language": "bash",
   "name": "bash"
  },
  "language_info": {
   "codemirror_mode": "shell",
   "file_extension": ".sh",
   "mimetype": "text/x-sh",
   "name": "bash"
  }
 },
 "nbformat": 4,
 "nbformat_minor": 2
}
