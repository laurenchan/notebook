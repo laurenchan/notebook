{
 "cells": [
  {
   "cell_type": "code",
   "execution_count": 2,
   "metadata": {},
   "outputs": [],
   "source": [
    "source activate qiime2-2019.7"
   ]
  },
  {
   "cell_type": "markdown",
   "metadata": {},
   "source": [
    "### Bash script to subset samples\n",
    "\n",
    "```\n",
    "cd FAST*\n",
    "for filename in *; \n",
    "do \n",
    "\tcd  $filename;\n",
    "\tread1=`ls *R1*`\n",
    "\tread2=`ls *R2*`\n",
    "\tgroup=`cut -d'_' -f1 <<< $read1`\n",
    "\t\n",
    "\tpython ~/Desktop/randomReadSubSample.py -f1 $read1 -f2 $read2 -s 50000 -r 0 -g 1 -o '../../MiniSeq50k/'$group'50k'\n",
    "\tcd ..\n",
    "done\n",
    "```"
   ]
  },
  {
   "cell_type": "code",
   "execution_count": 4,
   "metadata": {
    "scrolled": true
   },
   "outputs": [],
   "source": [
    "cd ~/Documents/BaseSpace/ApicalCrop_WDE_MiniSeq-139687557/MiniSeq50k"
   ]
  },
  {
   "cell_type": "markdown",
   "metadata": {},
   "source": [
    "### Import into QIIME2\n",
    "\n",
    "`qiime tools import --type 'SampleData[PairedEndSequencesWithQuality]' --input-path MiniSeq_50k_manifest.csv --output-path miniseq-pe-demux.qza --input-format 'PairedEndFastqManifestPhred33'`\n",
    "\n",
    "This was a pain in the ass and took trial and error. Problems ended up being that the manifest file needed to be a csv without spaces and as `sampling-id,absolute-filepath,direction`. Also was Phred33, not 64 apparently. At least after subsampling."
   ]
  },
  {
   "cell_type": "code",
   "execution_count": 5,
   "metadata": {},
   "outputs": [
    {
     "name": "stdout",
     "output_type": "stream",
     "text": [
      "\u001b[32mImported MiniSeq_50k_manifest.csv as PairedEndFastqManifestPhred33 to miniseq-pe-demux.qza\u001b[0m\n"
     ]
    }
   ],
   "source": [
    "qiime tools import --type 'SampleData[PairedEndSequencesWithQuality]' --input-path MiniSeq_50k_manifest.csv --output-path miniseq-pe-demux.qza --input-format 'PairedEndFastqManifestPhred33'"
   ]
  },
  {
   "cell_type": "markdown",
   "metadata": {},
   "source": [
    "#### Denoising\n",
    "\n",
    "Error with 2x150 data because of no overlap of sequences.\n",
    "`qiime dada2 denoise-paired --i-demultiplexed-seqs miniseq-pe-demux.qza --p-trim-left-f 13 --p-trim-left-r 13 --p-trunc-len-f 150 --p-trunc-len-r 150 --o-table miniseq50k_table.qza --o-representative-sequences miniseq50k_rep_seqs.qza --o-denoising-stats miniseq50k_stats.qza`\n",
    "\n",
    "Got error ` No features remain after denoising. Try adjusting your truncation and trim parameter settings.` "
   ]
  },
  {
   "cell_type": "markdown",
   "metadata": {},
   "source": [
    "#### Solution is to only use single reads --> so just the forward reads"
   ]
  },
  {
   "cell_type": "code",
   "execution_count": null,
   "metadata": {},
   "outputs": [],
   "source": [
    "qiime dada2 denoise-single --i-demultiplexed-seqs miniseq-pe-demux.qza --p-trim-left 13 --p-trunc-len 150 --o-table single-table.qza --o-representative-sequences single-rep-seqs.qza --o-denoising-stats single-denoise-stats.qza"
   ]
  },
  {
   "cell_type": "code",
   "execution_count": null,
   "metadata": {},
   "outputs": [],
   "source": [
    "qiime feature-table summarize --i-table single-table.qza --o-visualization single-table.qzv --m-sample-metadata-file Microbe\\_Samples\\_Metadata.tsv"
   ]
  },
  {
   "cell_type": "code",
   "execution_count": 5,
   "metadata": {},
   "outputs": [
    {
     "name": "stdout",
     "output_type": "stream",
     "text": [
      "\u001b[32mSaved Visualization to: single-rep-seqs.qzv\u001b[0m\n"
     ]
    }
   ],
   "source": [
    "qiime feature-table tabulate-seqs --i-data single-rep-seqs.qza --o-visualization single-rep-seqs.qzv"
   ]
  },
  {
   "cell_type": "code",
   "execution_count": null,
   "metadata": {},
   "outputs": [],
   "source": []
  }
 ],
 "metadata": {
  "kernelspec": {
   "display_name": "Bash",
   "language": "bash",
   "name": "bash"
  },
  "language_info": {
   "codemirror_mode": "shell",
   "file_extension": ".sh",
   "mimetype": "text/x-sh",
   "name": "bash"
  }
 },
 "nbformat": 4,
 "nbformat_minor": 2
}
