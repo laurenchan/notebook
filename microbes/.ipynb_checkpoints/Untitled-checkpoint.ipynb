{
 "cells": [
  {
   "cell_type": "code",
   "execution_count": null,
   "metadata": {},
   "outputs": [],
   "source": [
    "### Bash script to subset samples\n",
    "Not necessary for most folks. This is a short script relying on randomReadSubSample.py script.\n",
    "\n",
    "```\n",
    "cd FAST*\n",
    "for filename in *; \n",
    "do \n",
    "\tcd  $filename;\n",
    "\tread1=`ls *R1*`\n",
    "\tread2=`ls *R2*`\n",
    "\tgroup=`cut -d'_' -f1 <<< $read1`\n",
    "\t\n",
    "\tpython ~/Desktop/randomReadSubSample.py -f1 $read1 -f2 $read2 -s 50000 -r 0 -g 1 -o '../../MiniSeq50k/'$group'50k'\n",
    "\tcd ..\n",
    "done\n",
    "```"
   ]
  }
 ],
 "metadata": {
  "kernelspec": {
   "display_name": "Bash",
   "language": "bash",
   "name": "bash"
  },
  "language_info": {
   "codemirror_mode": "shell",
   "file_extension": ".sh",
   "mimetype": "text/x-sh",
   "name": "bash"
  }
 },
 "nbformat": 4,
 "nbformat_minor": 2
}
