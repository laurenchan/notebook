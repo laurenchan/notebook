{
 "cells": [
  {
   "cell_type": "markdown",
   "metadata": {},
   "source": [
    "# Attempting to use PiCrust2"
   ]
  },
  {
   "cell_type": "code",
   "execution_count": null,
   "metadata": {},
   "outputs": [],
   "source": [
    "source activate qiime2-2019.7"
   ]
  },
  {
   "cell_type": "code",
   "execution_count": null,
   "metadata": {},
   "outputs": [],
   "source": [
    "conda install q2-picrust2=2019.7 -c conda-forge -c bioconda -c gavinmdouglas "
   ]
  },
  {
   "cell_type": "code",
   "execution_count": null,
   "metadata": {},
   "outputs": [],
   "source": [
    "qiime picrust2 full-pipeline --i-table FH1_table.qza --i-seq FH1_rep-seqs.qza --output-dir q2-picrust2_output --p-threads 4 --p-hsp-method pic --p-max-nsti 2 --verbose"
   ]
  },
  {
   "cell_type": "code",
   "execution_count": null,
   "metadata": {},
   "outputs": [],
   "source": [
    "qiime tools export \\\n",
    "   --input-path q2-picrust2_output/pathway_abundance.qza \\\n",
    "   --output-path pathabun_exported"
   ]
  },
  {
   "cell_type": "code",
   "execution_count": null,
   "metadata": {},
   "outputs": [],
   "source": [
    "biom convert \\\n",
    "    -i pathabun_exported/feature-table.biom \\\n",
    "    -o pathabun_exported/feature-table.biom.tsv \\\n",
    "    --to-tsv"
   ]
  },
  {
   "cell_type": "code",
   "execution_count": null,
   "metadata": {},
   "outputs": [],
   "source": [
    "#trying this out. arbitrarily picked 1000\n",
    "qiime diversity core-metrics    --i-table q2-picrust2_output/pathway_abundance.qza    --p-sampling-depth 1000    --m-metadata-file FH1_sample_metadata.tsv    --output-dir pathabun_core_metrics_out    --p-n-jobs 1"
   ]
  },
  {
   "cell_type": "markdown",
   "metadata": {},
   "source": [
    "### Installed STAMP\n",
    "`pip2.7 install STAMP` though in Python 3.7, while written for Python2\n",
    "\n",
    "had to first install pip for 2.7 by doing:\n",
    "`curl -O https://bootstrap.pypa.io/get-pip.py`\n",
    "`sudo python3.2 get-pip.py`\n",
    "\n",
    "my pip for 2.7 was pip2.7 (use `pip -V` to figure out version)\n",
    "\n",
    "ErrorS:\n",
    "ERROR: python-dateutil 2.8.1 has requirement six>=1.5, but you'll have six 1.4.1 which is incompatible.\n",
    "ERROR: matplotlib 2.2.4 has requirement six>=1.10, but you'll have six 1.4.1 which is incompatible.\n",
    "ERROR: biom-format 2.1.7 has requirement six>=1.10.0, but you'll have six 1.4.1 which is incompatible.\n",
    "Installing collected packages: numpy, scipy, cycler, kiwisolver, python-dateutil, subprocess32, backports.functools-lru-cache, matplotlib, click, future, pandas, pyqi, biom-format, STAMP\n",
    "  Found existing installation: numpy 1.8.0rc1\n",
    "ERROR: Cannot uninstall 'numpy'. It is a distutils installed project and thus we cannot accurately determine which files belong to it which would lead to only a partial uninstall.\n",
    "\n",
    "Then tried.\n",
    "pip2.7 install --upgrade --user six\n",
    "sudo pip2.7 install STAMP\n",
    "\n",
    "ERROR: Cannot uninstall 'numpy'. It is a distutils installed project and thus we cannot accurately determine which files belong to it which would lead to only a partial uninstall.\n",
    "\n",
    "then tried\n",
    "sudo pip2.7 install STAMP --ignore-installed --install-option '--install-data=/usr/local' numpy\n",
    "\n",
    "brew install freetype\n",
    "\n",
    "tried above again. Compiled, but didn't run. Give up.\n"
   ]
  },
  {
   "cell_type": "code",
   "execution_count": null,
   "metadata": {},
   "outputs": [],
   "source": [
    "#also install stand alone version\n",
    "conda create -n picrust2 -c bioconda -c conda-forge picrust2=2.2.0_b\n",
    "conda activate picrust2"
   ]
  }
 ],
 "metadata": {
  "kernelspec": {
   "display_name": "Bash",
   "language": "bash",
   "name": "bash"
  },
  "language_info": {
   "codemirror_mode": "shell",
   "file_extension": ".sh",
   "mimetype": "text/x-sh",
   "name": "bash"
  }
 },
 "nbformat": 4,
 "nbformat_minor": 2
}
