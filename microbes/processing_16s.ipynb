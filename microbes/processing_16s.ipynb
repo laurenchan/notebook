{
 "cells": [
  {
   "cell_type": "markdown",
   "metadata": {},
   "source": [
    "# Processing 16s rRNA sequences\n",
    "Running locally on Mac or Linux system. "
   ]
  },
  {
   "cell_type": "code",
   "execution_count": 1,
   "metadata": {},
   "outputs": [],
   "source": [
    "source activate qiime2-2019.7"
   ]
  },
  {
   "cell_type": "code",
   "execution_count": 2,
   "metadata": {},
   "outputs": [],
   "source": [
    "cd ~/Documents/QIIME2_test"
   ]
  },
  {
   "cell_type": "markdown",
   "metadata": {},
   "source": [
    "## Import data into QIIME2\n",
    "these are paired end 300bp sequences from Illumina MiSeq, downsampled to 50k reads (2x300)"
   ]
  },
  {
   "cell_type": "code",
   "execution_count": 4,
   "metadata": {},
   "outputs": [
    {
     "name": "stdout",
     "output_type": "stream",
     "text": [
      "\u001b[32mImported testSeq_50k_manifest.csv as PairedEndFastqManifestPhred33 to sstr_soil_pe_demux.qza\u001b[0m\n"
     ]
    }
   ],
   "source": [
    "qiime tools import \\\n",
    "    --type 'SampleData[PairedEndSequencesWithQuality]' \\\n",
    "    --input-path testSeq_50k_manifest.csv \\\n",
    "    --output-path sstr_soil_pe_demux.qza \\\n",
    "    --input-format 'PairedEndFastqManifestPhred33'"
   ]
  },
  {
   "cell_type": "markdown",
   "metadata": {},
   "source": [
    "Save as a visualization artifact."
   ]
  },
  {
   "cell_type": "code",
   "execution_count": 5,
   "metadata": {},
   "outputs": [
    {
     "name": "stdout",
     "output_type": "stream",
     "text": [
      "\u001b[32mSaved Visualization to: sstr_soil_pe_demux.qzv\u001b[0m\n"
     ]
    }
   ],
   "source": [
    "qiime demux summarize \\\n",
    "    --i-data sstr_soil_pe_demux.qza \\\n",
    "    --o-visualization sstr_soil_pe_demux.qzv"
   ]
  },
  {
   "cell_type": "markdown",
   "metadata": {},
   "source": [
    "View the resulting qzv file on view.qiime2.org and determine where to trim primers and truncate sequences."
   ]
  },
  {
   "cell_type": "markdown",
   "metadata": {},
   "source": [
    "## Denoise Data"
   ]
  },
  {
   "cell_type": "code",
   "execution_count": 9,
   "metadata": {},
   "outputs": [
    {
     "name": "stdout",
     "output_type": "stream",
     "text": [
      "\u001b[32mSaved FeatureTable[Frequency] to: sstr_soil_table.qza\u001b[0m\n",
      "\u001b[32mSaved FeatureData[Sequence] to: sstr_soil_rep-seqs.qza\u001b[0m\n",
      "\u001b[32mSaved SampleData[DADA2Stats] to: sstr_soil_denoising-stats.qza\u001b[0m\n"
     ]
    }
   ],
   "source": [
    "qiime dada2 denoise-paired \\\n",
    "    --i-demultiplexed-seqs sstr_soil_pe_demux.qza \\\n",
    "    --p-trim-left-f 20 \\\n",
    "    --p-trim-left-r 5 \\\n",
    "    --p-trunc-len-f 230 \\\n",
    "    --p-trunc-len-r 230 \\\n",
    "    --o-table sstr_soil_table.qza \\\n",
    "    --o-representative-sequences sstr_soil_rep-seqs.qza \\\n",
    "    --o-denoising-stats sstr_soil_denoising-stats.qza"
   ]
  },
  {
   "cell_type": "markdown",
   "metadata": {},
   "source": [
    "## Classify sequences\n",
    "You will need to use the classifier that was output from the training classifiers tutorial"
   ]
  },
  {
   "cell_type": "code",
   "execution_count": 11,
   "metadata": {},
   "outputs": [
    {
     "name": "stdout",
     "output_type": "stream",
     "text": [
      "/Users/chan5416/Documents/QIIME2_test\n"
     ]
    }
   ],
   "source": [
    "pwd"
   ]
  },
  {
   "cell_type": "code",
   "execution_count": 14,
   "metadata": {},
   "outputs": [
    {
     "name": "stdout",
     "output_type": "stream",
     "text": [
      "\u001b[32mSaved FeatureData[Taxonomy] to: sstr_soil_taxonomy.qza\u001b[0m\n"
     ]
    }
   ],
   "source": [
    "qiime feature-classifier classify-sklearn \\\n",
    "  --i-classifier ../QIIME2_Resources/silva99_16s_classifier.qza \\\n",
    "  --i-reads sstr_soil_rep-seqs.qza \\\n",
    "  --o-classification sstr_soil_taxonomy.qza"
   ]
  },
  {
   "cell_type": "code",
   "execution_count": 15,
   "metadata": {},
   "outputs": [
    {
     "name": "stdout",
     "output_type": "stream",
     "text": [
      "\u001b[32mSaved Visualization to: sstr_soil_taxonomy.qzv\u001b[0m\n"
     ]
    }
   ],
   "source": [
    "qiime metadata tabulate \\\n",
    "  --m-input-file sstr_soil_taxonomy.qza \\\n",
    "  --o-visualization sstr_soil_taxonomy.qzv"
   ]
  },
  {
   "cell_type": "markdown",
   "metadata": {},
   "source": [
    "## Create Bar Plot"
   ]
  },
  {
   "cell_type": "code",
   "execution_count": 17,
   "metadata": {},
   "outputs": [
    {
     "name": "stdout",
     "output_type": "stream",
     "text": [
      "\u001b[32mSaved Visualization to: taxa-bar-plots.qzv\u001b[0m\n"
     ]
    }
   ],
   "source": [
    "qiime taxa barplot \\\n",
    "    --i-table sstr_soil_table.qza \\\n",
    "    --i-taxonomy sstr_soil_taxonomy.qza \\\n",
    "    --m-metadata-file sample_metadata.tsv \\\n",
    "    --o-visualization taxa-bar-plots.qzv"
   ]
  },
  {
   "cell_type": "code",
   "execution_count": null,
   "metadata": {},
   "outputs": [],
   "source": []
  }
 ],
 "metadata": {
  "kernelspec": {
   "display_name": "Bash",
   "language": "bash",
   "name": "bash"
  },
  "language_info": {
   "codemirror_mode": "shell",
   "file_extension": ".sh",
   "mimetype": "text/x-sh",
   "name": "bash"
  }
 },
 "nbformat": 4,
 "nbformat_minor": 2
}
